{
 "cells": [
  {
   "cell_type": "code",
   "execution_count": null,
   "metadata": {
    "id": "53BgOrNwqb3X"
   },
   "outputs": [],
   "source": [
    "##Loan Prediction Classfication"
   ]
  },
  {
   "cell_type": "code",
   "execution_count": null,
   "metadata": {
    "id": "ruFzko8VsGof"
   },
   "outputs": [],
   "source": [
    "## Müşteriye Kredi Verilip - Verilmeyeceğini Tahmin Etme"
   ]
  },
  {
   "cell_type": "markdown",
   "metadata": {
    "id": "Ii1A_9j6vAFx"
   },
   "source": [
    "![credit_score_for_us.png](data:image/png;base64,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)"
   ]
  },
  {
   "cell_type": "code",
   "execution_count": null,
   "metadata": {
    "id": "axIzgoNkbBbV"
   },
   "outputs": [],
   "source": [
    "## Library importing\n",
    "import numpy as np\n",
    "import pandas as pd\n",
    "import seaborn as sns\n",
    "import matplotlib.pyplot as plt\n",
    "%matplotlib inline\n",
    "import warnings\n",
    "warnings.filterwarnings(\"ignore\")\n",
    "from sklearn.model_selection import train_test_split\n",
    "pd.set_option(\"display.max_columns\",100)"
   ]
  },
  {
   "cell_type": "code",
   "execution_count": null,
   "metadata": {
    "id": "ZkF8qVc6sO1y"
   },
   "outputs": [],
   "source": [
    "df=pd.read_csv('LoansTrainingSet.csv')"
   ]
  },
  {
   "cell_type": "code",
   "execution_count": null,
   "metadata": {
    "id": "cep5O8Ig0mQ7"
   },
   "outputs": [],
   "source": [
    "# EDA ( Exploratory Data Analysis )"
   ]
  },
  {
   "cell_type": "code",
   "execution_count": null,
   "metadata": {
    "colab": {
     "base_uri": "https://localhost:8080/",
     "height": 563
    },
    "id": "uxMSQkegsfvw",
    "outputId": "bd877d3e-8f77-4114-f6d3-c256ea851b80"
   },
   "outputs": [
    {
     "data": {
      "text/html": [
       "\n",
       "  <div id=\"df-0f5b3a20-e46d-430a-9fda-d5b602d994a2\">\n",
       "    <div class=\"colab-df-container\">\n",
       "      <div>\n",
       "<style scoped>\n",
       "    .dataframe tbody tr th:only-of-type {\n",
       "        vertical-align: middle;\n",
       "    }\n",
       "\n",
       "    .dataframe tbody tr th {\n",
       "        vertical-align: top;\n",
       "    }\n",
       "\n",
       "    .dataframe thead th {\n",
       "        text-align: right;\n",
       "    }\n",
       "</style>\n",
       "<table border=\"1\" class=\"dataframe\">\n",
       "  <thead>\n",
       "    <tr style=\"text-align: right;\">\n",
       "      <th></th>\n",
       "      <th>Loan ID</th>\n",
       "      <th>Customer ID</th>\n",
       "      <th>Loan Status</th>\n",
       "      <th>Current Loan Amount</th>\n",
       "      <th>Term</th>\n",
       "      <th>Credit Score</th>\n",
       "      <th>Years in current job</th>\n",
       "      <th>Home Ownership</th>\n",
       "      <th>Annual Income</th>\n",
       "      <th>Purpose</th>\n",
       "      <th>Monthly Debt</th>\n",
       "      <th>Years of Credit History</th>\n",
       "      <th>Months since last delinquent</th>\n",
       "      <th>Number of Open Accounts</th>\n",
       "      <th>Number of Credit Problems</th>\n",
       "      <th>Current Credit Balance</th>\n",
       "      <th>Maximum Open Credit</th>\n",
       "      <th>Bankruptcies</th>\n",
       "      <th>Tax Liens</th>\n",
       "    </tr>\n",
       "  </thead>\n",
       "  <tbody>\n",
       "    <tr>\n",
       "      <th>0</th>\n",
       "      <td>000025bb-5694-4cff-b17d-192b1a98ba44</td>\n",
       "      <td>5ebc8bb1-5eb9-4404-b11b-a6eebc401a19</td>\n",
       "      <td>Fully Paid</td>\n",
       "      <td>11520</td>\n",
       "      <td>Short Term</td>\n",
       "      <td>741.0</td>\n",
       "      <td>10+ years</td>\n",
       "      <td>Home Mortgage</td>\n",
       "      <td>33694.0</td>\n",
       "      <td>Debt Consolidation</td>\n",
       "      <td>$584.03</td>\n",
       "      <td>12.3</td>\n",
       "      <td>41.0</td>\n",
       "      <td>10</td>\n",
       "      <td>0</td>\n",
       "      <td>6760</td>\n",
       "      <td>16056</td>\n",
       "      <td>0.0</td>\n",
       "      <td>0.0</td>\n",
       "    </tr>\n",
       "    <tr>\n",
       "      <th>1</th>\n",
       "      <td>00002c49-3a29-4bd4-8f67-c8f8fbc1048c</td>\n",
       "      <td>927b388d-2e01-423f-a8dc-f7e42d668f46</td>\n",
       "      <td>Fully Paid</td>\n",
       "      <td>3441</td>\n",
       "      <td>Short Term</td>\n",
       "      <td>734.0</td>\n",
       "      <td>4 years</td>\n",
       "      <td>Home Mortgage</td>\n",
       "      <td>42269.0</td>\n",
       "      <td>other</td>\n",
       "      <td>$1,106.04</td>\n",
       "      <td>26.3</td>\n",
       "      <td>NaN</td>\n",
       "      <td>17</td>\n",
       "      <td>0</td>\n",
       "      <td>6262</td>\n",
       "      <td>19149</td>\n",
       "      <td>0.0</td>\n",
       "      <td>0.0</td>\n",
       "    </tr>\n",
       "    <tr>\n",
       "      <th>2</th>\n",
       "      <td>00002d89-27f3-409b-aa76-90834f359a65</td>\n",
       "      <td>defce609-c631-447d-aad6-1270615e89c4</td>\n",
       "      <td>Fully Paid</td>\n",
       "      <td>21029</td>\n",
       "      <td>Short Term</td>\n",
       "      <td>747.0</td>\n",
       "      <td>10+ years</td>\n",
       "      <td>Home Mortgage</td>\n",
       "      <td>90126.0</td>\n",
       "      <td>Debt Consolidation</td>\n",
       "      <td>$1,321.85</td>\n",
       "      <td>28.8</td>\n",
       "      <td>NaN</td>\n",
       "      <td>5</td>\n",
       "      <td>0</td>\n",
       "      <td>20967</td>\n",
       "      <td>28335</td>\n",
       "      <td>0.0</td>\n",
       "      <td>0.0</td>\n",
       "    </tr>\n",
       "    <tr>\n",
       "      <th>3</th>\n",
       "      <td>00005222-b4d8-45a4-ad8c-186057e24233</td>\n",
       "      <td>070bcecb-aae7-4485-a26a-e0403e7bb6c5</td>\n",
       "      <td>Fully Paid</td>\n",
       "      <td>18743</td>\n",
       "      <td>Short Term</td>\n",
       "      <td>747.0</td>\n",
       "      <td>10+ years</td>\n",
       "      <td>Own Home</td>\n",
       "      <td>38072.0</td>\n",
       "      <td>Debt Consolidation</td>\n",
       "      <td>$751.92</td>\n",
       "      <td>26.2</td>\n",
       "      <td>NaN</td>\n",
       "      <td>9</td>\n",
       "      <td>0</td>\n",
       "      <td>22529</td>\n",
       "      <td>43915</td>\n",
       "      <td>0.0</td>\n",
       "      <td>0.0</td>\n",
       "    </tr>\n",
       "    <tr>\n",
       "      <th>4</th>\n",
       "      <td>0000757f-a121-41ed-b17b-162e76647c1f</td>\n",
       "      <td>dde79588-12f0-4811-bab0-e2b07f633fcd</td>\n",
       "      <td>Fully Paid</td>\n",
       "      <td>11731</td>\n",
       "      <td>Short Term</td>\n",
       "      <td>746.0</td>\n",
       "      <td>4 years</td>\n",
       "      <td>Rent</td>\n",
       "      <td>50025.0</td>\n",
       "      <td>Debt Consolidation</td>\n",
       "      <td>$355.18</td>\n",
       "      <td>11.5</td>\n",
       "      <td>NaN</td>\n",
       "      <td>12</td>\n",
       "      <td>0</td>\n",
       "      <td>17391</td>\n",
       "      <td>37081</td>\n",
       "      <td>0.0</td>\n",
       "      <td>0.0</td>\n",
       "    </tr>\n",
       "  </tbody>\n",
       "</table>\n",
       "</div>\n",
       "      <button class=\"colab-df-convert\" onclick=\"convertToInteractive('df-0f5b3a20-e46d-430a-9fda-d5b602d994a2')\"\n",
       "              title=\"Convert this dataframe to an interactive table.\"\n",
       "              style=\"display:none;\">\n",
       "        \n",
       "  <svg xmlns=\"http://www.w3.org/2000/svg\" height=\"24px\"viewBox=\"0 0 24 24\"\n",
       "       width=\"24px\">\n",
       "    <path d=\"M0 0h24v24H0V0z\" fill=\"none\"/>\n",
       "    <path d=\"M18.56 5.44l.94 2.06.94-2.06 2.06-.94-2.06-.94-.94-2.06-.94 2.06-2.06.94zm-11 1L8.5 8.5l.94-2.06 2.06-.94-2.06-.94L8.5 2.5l-.94 2.06-2.06.94zm10 10l.94 2.06.94-2.06 2.06-.94-2.06-.94-.94-2.06-.94 2.06-2.06.94z\"/><path d=\"M17.41 7.96l-1.37-1.37c-.4-.4-.92-.59-1.43-.59-.52 0-1.04.2-1.43.59L10.3 9.45l-7.72 7.72c-.78.78-.78 2.05 0 2.83L4 21.41c.39.39.9.59 1.41.59.51 0 1.02-.2 1.41-.59l7.78-7.78 2.81-2.81c.8-.78.8-2.07 0-2.86zM5.41 20L4 18.59l7.72-7.72 1.47 1.35L5.41 20z\"/>\n",
       "  </svg>\n",
       "      </button>\n",
       "      \n",
       "  <style>\n",
       "    .colab-df-container {\n",
       "      display:flex;\n",
       "      flex-wrap:wrap;\n",
       "      gap: 12px;\n",
       "    }\n",
       "\n",
       "    .colab-df-convert {\n",
       "      background-color: #E8F0FE;\n",
       "      border: none;\n",
       "      border-radius: 50%;\n",
       "      cursor: pointer;\n",
       "      display: none;\n",
       "      fill: #1967D2;\n",
       "      height: 32px;\n",
       "      padding: 0 0 0 0;\n",
       "      width: 32px;\n",
       "    }\n",
       "\n",
       "    .colab-df-convert:hover {\n",
       "      background-color: #E2EBFA;\n",
       "      box-shadow: 0px 1px 2px rgba(60, 64, 67, 0.3), 0px 1px 3px 1px rgba(60, 64, 67, 0.15);\n",
       "      fill: #174EA6;\n",
       "    }\n",
       "\n",
       "    [theme=dark] .colab-df-convert {\n",
       "      background-color: #3B4455;\n",
       "      fill: #D2E3FC;\n",
       "    }\n",
       "\n",
       "    [theme=dark] .colab-df-convert:hover {\n",
       "      background-color: #434B5C;\n",
       "      box-shadow: 0px 1px 3px 1px rgba(0, 0, 0, 0.15);\n",
       "      filter: drop-shadow(0px 1px 2px rgba(0, 0, 0, 0.3));\n",
       "      fill: #FFFFFF;\n",
       "    }\n",
       "  </style>\n",
       "\n",
       "      <script>\n",
       "        const buttonEl =\n",
       "          document.querySelector('#df-0f5b3a20-e46d-430a-9fda-d5b602d994a2 button.colab-df-convert');\n",
       "        buttonEl.style.display =\n",
       "          google.colab.kernel.accessAllowed ? 'block' : 'none';\n",
       "\n",
       "        async function convertToInteractive(key) {\n",
       "          const element = document.querySelector('#df-0f5b3a20-e46d-430a-9fda-d5b602d994a2');\n",
       "          const dataTable =\n",
       "            await google.colab.kernel.invokeFunction('convertToInteractive',\n",
       "                                                     [key], {});\n",
       "          if (!dataTable) return;\n",
       "\n",
       "          const docLinkHtml = 'Like what you see? Visit the ' +\n",
       "            '<a target=\"_blank\" href=https://colab.research.google.com/notebooks/data_table.ipynb>data table notebook</a>'\n",
       "            + ' to learn more about interactive tables.';\n",
       "          element.innerHTML = '';\n",
       "          dataTable['output_type'] = 'display_data';\n",
       "          await google.colab.output.renderOutput(dataTable, element);\n",
       "          const docLink = document.createElement('div');\n",
       "          docLink.innerHTML = docLinkHtml;\n",
       "          element.appendChild(docLink);\n",
       "        }\n",
       "      </script>\n",
       "    </div>\n",
       "  </div>\n",
       "  "
      ],
      "text/plain": [
       "                                Loan ID                           Customer ID  \\\n",
       "0  000025bb-5694-4cff-b17d-192b1a98ba44  5ebc8bb1-5eb9-4404-b11b-a6eebc401a19   \n",
       "1  00002c49-3a29-4bd4-8f67-c8f8fbc1048c  927b388d-2e01-423f-a8dc-f7e42d668f46   \n",
       "2  00002d89-27f3-409b-aa76-90834f359a65  defce609-c631-447d-aad6-1270615e89c4   \n",
       "3  00005222-b4d8-45a4-ad8c-186057e24233  070bcecb-aae7-4485-a26a-e0403e7bb6c5   \n",
       "4  0000757f-a121-41ed-b17b-162e76647c1f  dde79588-12f0-4811-bab0-e2b07f633fcd   \n",
       "\n",
       "  Loan Status  Current Loan Amount        Term  Credit Score  \\\n",
       "0  Fully Paid                11520  Short Term         741.0   \n",
       "1  Fully Paid                 3441  Short Term         734.0   \n",
       "2  Fully Paid                21029  Short Term         747.0   \n",
       "3  Fully Paid                18743  Short Term         747.0   \n",
       "4  Fully Paid                11731  Short Term         746.0   \n",
       "\n",
       "  Years in current job Home Ownership  Annual Income             Purpose  \\\n",
       "0            10+ years  Home Mortgage        33694.0  Debt Consolidation   \n",
       "1              4 years  Home Mortgage        42269.0               other   \n",
       "2            10+ years  Home Mortgage        90126.0  Debt Consolidation   \n",
       "3            10+ years       Own Home        38072.0  Debt Consolidation   \n",
       "4              4 years           Rent        50025.0  Debt Consolidation   \n",
       "\n",
       "  Monthly Debt  Years of Credit History  Months since last delinquent  \\\n",
       "0      $584.03                     12.3                          41.0   \n",
       "1   $1,106.04                      26.3                           NaN   \n",
       "2   $1,321.85                      28.8                           NaN   \n",
       "3      $751.92                     26.2                           NaN   \n",
       "4      $355.18                     11.5                           NaN   \n",
       "\n",
       "   Number of Open Accounts  Number of Credit Problems  Current Credit Balance  \\\n",
       "0                       10                          0                    6760   \n",
       "1                       17                          0                    6262   \n",
       "2                        5                          0                   20967   \n",
       "3                        9                          0                   22529   \n",
       "4                       12                          0                   17391   \n",
       "\n",
       "  Maximum Open Credit  Bankruptcies  Tax Liens  \n",
       "0               16056           0.0        0.0  \n",
       "1               19149           0.0        0.0  \n",
       "2               28335           0.0        0.0  \n",
       "3               43915           0.0        0.0  \n",
       "4               37081           0.0        0.0  "
      ]
     },
     "execution_count": 6,
     "metadata": {},
     "output_type": "execute_result"
    }
   ],
   "source": [
    "df.head()"
   ]
  },
  {
   "cell_type": "code",
   "execution_count": null,
   "metadata": {
    "colab": {
     "base_uri": "https://localhost:8080/"
    },
    "id": "TqmrNAultGHH",
    "outputId": "a3a30d88-75cf-4be9-af1e-5ad421844521"
   },
   "outputs": [
    {
     "name": "stdout",
     "output_type": "stream",
     "text": [
      "<class 'pandas.core.frame.DataFrame'>\n",
      "RangeIndex: 256984 entries, 0 to 256983\n",
      "Data columns (total 19 columns):\n",
      " #   Column                        Non-Null Count   Dtype  \n",
      "---  ------                        --------------   -----  \n",
      " 0   Loan ID                       256984 non-null  object \n",
      " 1   Customer ID                   256984 non-null  object \n",
      " 2   Loan Status                   256984 non-null  object \n",
      " 3   Current Loan Amount           256984 non-null  int64  \n",
      " 4   Term                          256984 non-null  object \n",
      " 5   Credit Score                  195308 non-null  float64\n",
      " 6   Years in current job          245508 non-null  object \n",
      " 7   Home Ownership                256984 non-null  object \n",
      " 8   Annual Income                 195308 non-null  float64\n",
      " 9   Purpose                       256984 non-null  object \n",
      " 10  Monthly Debt                  256984 non-null  object \n",
      " 11  Years of Credit History       256984 non-null  float64\n",
      " 12  Months since last delinquent  116601 non-null  float64\n",
      " 13  Number of Open Accounts       256984 non-null  int64  \n",
      " 14  Number of Credit Problems     256984 non-null  int64  \n",
      " 15  Current Credit Balance        256984 non-null  int64  \n",
      " 16  Maximum Open Credit           256984 non-null  object \n",
      " 17  Bankruptcies                  256455 non-null  float64\n",
      " 18  Tax Liens                     256961 non-null  float64\n",
      "dtypes: float64(6), int64(4), object(9)\n",
      "memory usage: 37.3+ MB\n"
     ]
    }
   ],
   "source": [
    "df.info()"
   ]
  },
  {
   "cell_type": "code",
   "execution_count": null,
   "metadata": {
    "colab": {
     "base_uri": "https://localhost:8080/",
     "height": 476
    },
    "id": "77krRojxtOIz",
    "outputId": "35bb1ef6-a61b-4eca-a374-ff61e5c58aea"
   },
   "outputs": [
    {
     "data": {
      "text/html": [
       "\n",
       "  <div id=\"df-0992a700-2b4f-4952-b5ef-93110c224cb5\">\n",
       "    <div class=\"colab-df-container\">\n",
       "      <div>\n",
       "<style scoped>\n",
       "    .dataframe tbody tr th:only-of-type {\n",
       "        vertical-align: middle;\n",
       "    }\n",
       "\n",
       "    .dataframe tbody tr th {\n",
       "        vertical-align: top;\n",
       "    }\n",
       "\n",
       "    .dataframe thead th {\n",
       "        text-align: right;\n",
       "    }\n",
       "</style>\n",
       "<table border=\"1\" class=\"dataframe\">\n",
       "  <thead>\n",
       "    <tr style=\"text-align: right;\">\n",
       "      <th></th>\n",
       "      <th>Current Loan Amount</th>\n",
       "      <th>Credit Score</th>\n",
       "      <th>Annual Income</th>\n",
       "      <th>Years of Credit History</th>\n",
       "      <th>Months since last delinquent</th>\n",
       "      <th>Number of Open Accounts</th>\n",
       "      <th>Number of Credit Problems</th>\n",
       "      <th>Current Credit Balance</th>\n",
       "      <th>Bankruptcies</th>\n",
       "      <th>Tax Liens</th>\n",
       "    </tr>\n",
       "  </thead>\n",
       "  <tbody>\n",
       "    <tr>\n",
       "      <th>Current Loan Amount</th>\n",
       "      <td>1.000000</td>\n",
       "      <td>-0.139743</td>\n",
       "      <td>0.024069</td>\n",
       "      <td>0.014725</td>\n",
       "      <td>0.003488</td>\n",
       "      <td>-0.003094</td>\n",
       "      <td>-0.000062</td>\n",
       "      <td>0.003138</td>\n",
       "      <td>0.003576</td>\n",
       "      <td>-0.003069</td>\n",
       "    </tr>\n",
       "    <tr>\n",
       "      <th>Credit Score</th>\n",
       "      <td>-0.139743</td>\n",
       "      <td>1.000000</td>\n",
       "      <td>-0.033221</td>\n",
       "      <td>-0.011658</td>\n",
       "      <td>-0.007994</td>\n",
       "      <td>0.008124</td>\n",
       "      <td>0.000777</td>\n",
       "      <td>-0.003263</td>\n",
       "      <td>-0.003426</td>\n",
       "      <td>0.004381</td>\n",
       "    </tr>\n",
       "    <tr>\n",
       "      <th>Annual Income</th>\n",
       "      <td>0.024069</td>\n",
       "      <td>-0.033221</td>\n",
       "      <td>1.000000</td>\n",
       "      <td>0.146859</td>\n",
       "      <td>-0.059675</td>\n",
       "      <td>0.140463</td>\n",
       "      <td>-0.013672</td>\n",
       "      <td>0.292165</td>\n",
       "      <td>-0.044837</td>\n",
       "      <td>0.038185</td>\n",
       "    </tr>\n",
       "    <tr>\n",
       "      <th>Years of Credit History</th>\n",
       "      <td>0.014725</td>\n",
       "      <td>-0.011658</td>\n",
       "      <td>0.146859</td>\n",
       "      <td>1.000000</td>\n",
       "      <td>-0.039695</td>\n",
       "      <td>0.128033</td>\n",
       "      <td>0.061251</td>\n",
       "      <td>0.201001</td>\n",
       "      <td>0.062049</td>\n",
       "      <td>0.020915</td>\n",
       "    </tr>\n",
       "    <tr>\n",
       "      <th>Months since last delinquent</th>\n",
       "      <td>0.003488</td>\n",
       "      <td>-0.007994</td>\n",
       "      <td>-0.059675</td>\n",
       "      <td>-0.039695</td>\n",
       "      <td>1.000000</td>\n",
       "      <td>-0.035803</td>\n",
       "      <td>0.088612</td>\n",
       "      <td>-0.024292</td>\n",
       "      <td>0.112907</td>\n",
       "      <td>0.002730</td>\n",
       "    </tr>\n",
       "    <tr>\n",
       "      <th>Number of Open Accounts</th>\n",
       "      <td>-0.003094</td>\n",
       "      <td>0.008124</td>\n",
       "      <td>0.140463</td>\n",
       "      <td>0.128033</td>\n",
       "      <td>-0.035803</td>\n",
       "      <td>1.000000</td>\n",
       "      <td>-0.013731</td>\n",
       "      <td>0.222763</td>\n",
       "      <td>-0.022805</td>\n",
       "      <td>0.005754</td>\n",
       "    </tr>\n",
       "    <tr>\n",
       "      <th>Number of Credit Problems</th>\n",
       "      <td>-0.000062</td>\n",
       "      <td>0.000777</td>\n",
       "      <td>-0.013672</td>\n",
       "      <td>0.061251</td>\n",
       "      <td>0.088612</td>\n",
       "      <td>-0.013731</td>\n",
       "      <td>1.000000</td>\n",
       "      <td>-0.103814</td>\n",
       "      <td>0.755866</td>\n",
       "      <td>0.584917</td>\n",
       "    </tr>\n",
       "    <tr>\n",
       "      <th>Current Credit Balance</th>\n",
       "      <td>0.003138</td>\n",
       "      <td>-0.003263</td>\n",
       "      <td>0.292165</td>\n",
       "      <td>0.201001</td>\n",
       "      <td>-0.024292</td>\n",
       "      <td>0.222763</td>\n",
       "      <td>-0.103814</td>\n",
       "      <td>1.000000</td>\n",
       "      <td>-0.117995</td>\n",
       "      <td>-0.011118</td>\n",
       "    </tr>\n",
       "    <tr>\n",
       "      <th>Bankruptcies</th>\n",
       "      <td>0.003576</td>\n",
       "      <td>-0.003426</td>\n",
       "      <td>-0.044837</td>\n",
       "      <td>0.062049</td>\n",
       "      <td>0.112907</td>\n",
       "      <td>-0.022805</td>\n",
       "      <td>0.755866</td>\n",
       "      <td>-0.117995</td>\n",
       "      <td>1.000000</td>\n",
       "      <td>0.046160</td>\n",
       "    </tr>\n",
       "    <tr>\n",
       "      <th>Tax Liens</th>\n",
       "      <td>-0.003069</td>\n",
       "      <td>0.004381</td>\n",
       "      <td>0.038185</td>\n",
       "      <td>0.020915</td>\n",
       "      <td>0.002730</td>\n",
       "      <td>0.005754</td>\n",
       "      <td>0.584917</td>\n",
       "      <td>-0.011118</td>\n",
       "      <td>0.046160</td>\n",
       "      <td>1.000000</td>\n",
       "    </tr>\n",
       "  </tbody>\n",
       "</table>\n",
       "</div>\n",
       "      <button class=\"colab-df-convert\" onclick=\"convertToInteractive('df-0992a700-2b4f-4952-b5ef-93110c224cb5')\"\n",
       "              title=\"Convert this dataframe to an interactive table.\"\n",
       "              style=\"display:none;\">\n",
       "        \n",
       "  <svg xmlns=\"http://www.w3.org/2000/svg\" height=\"24px\"viewBox=\"0 0 24 24\"\n",
       "       width=\"24px\">\n",
       "    <path d=\"M0 0h24v24H0V0z\" fill=\"none\"/>\n",
       "    <path d=\"M18.56 5.44l.94 2.06.94-2.06 2.06-.94-2.06-.94-.94-2.06-.94 2.06-2.06.94zm-11 1L8.5 8.5l.94-2.06 2.06-.94-2.06-.94L8.5 2.5l-.94 2.06-2.06.94zm10 10l.94 2.06.94-2.06 2.06-.94-2.06-.94-.94-2.06-.94 2.06-2.06.94z\"/><path d=\"M17.41 7.96l-1.37-1.37c-.4-.4-.92-.59-1.43-.59-.52 0-1.04.2-1.43.59L10.3 9.45l-7.72 7.72c-.78.78-.78 2.05 0 2.83L4 21.41c.39.39.9.59 1.41.59.51 0 1.02-.2 1.41-.59l7.78-7.78 2.81-2.81c.8-.78.8-2.07 0-2.86zM5.41 20L4 18.59l7.72-7.72 1.47 1.35L5.41 20z\"/>\n",
       "  </svg>\n",
       "      </button>\n",
       "      \n",
       "  <style>\n",
       "    .colab-df-container {\n",
       "      display:flex;\n",
       "      flex-wrap:wrap;\n",
       "      gap: 12px;\n",
       "    }\n",
       "\n",
       "    .colab-df-convert {\n",
       "      background-color: #E8F0FE;\n",
       "      border: none;\n",
       "      border-radius: 50%;\n",
       "      cursor: pointer;\n",
       "      display: none;\n",
       "      fill: #1967D2;\n",
       "      height: 32px;\n",
       "      padding: 0 0 0 0;\n",
       "      width: 32px;\n",
       "    }\n",
       "\n",
       "    .colab-df-convert:hover {\n",
       "      background-color: #E2EBFA;\n",
       "      box-shadow: 0px 1px 2px rgba(60, 64, 67, 0.3), 0px 1px 3px 1px rgba(60, 64, 67, 0.15);\n",
       "      fill: #174EA6;\n",
       "    }\n",
       "\n",
       "    [theme=dark] .colab-df-convert {\n",
       "      background-color: #3B4455;\n",
       "      fill: #D2E3FC;\n",
       "    }\n",
       "\n",
       "    [theme=dark] .colab-df-convert:hover {\n",
       "      background-color: #434B5C;\n",
       "      box-shadow: 0px 1px 3px 1px rgba(0, 0, 0, 0.15);\n",
       "      filter: drop-shadow(0px 1px 2px rgba(0, 0, 0, 0.3));\n",
       "      fill: #FFFFFF;\n",
       "    }\n",
       "  </style>\n",
       "\n",
       "      <script>\n",
       "        const buttonEl =\n",
       "          document.querySelector('#df-0992a700-2b4f-4952-b5ef-93110c224cb5 button.colab-df-convert');\n",
       "        buttonEl.style.display =\n",
       "          google.colab.kernel.accessAllowed ? 'block' : 'none';\n",
       "\n",
       "        async function convertToInteractive(key) {\n",
       "          const element = document.querySelector('#df-0992a700-2b4f-4952-b5ef-93110c224cb5');\n",
       "          const dataTable =\n",
       "            await google.colab.kernel.invokeFunction('convertToInteractive',\n",
       "                                                     [key], {});\n",
       "          if (!dataTable) return;\n",
       "\n",
       "          const docLinkHtml = 'Like what you see? Visit the ' +\n",
       "            '<a target=\"_blank\" href=https://colab.research.google.com/notebooks/data_table.ipynb>data table notebook</a>'\n",
       "            + ' to learn more about interactive tables.';\n",
       "          element.innerHTML = '';\n",
       "          dataTable['output_type'] = 'display_data';\n",
       "          await google.colab.output.renderOutput(dataTable, element);\n",
       "          const docLink = document.createElement('div');\n",
       "          docLink.innerHTML = docLinkHtml;\n",
       "          element.appendChild(docLink);\n",
       "        }\n",
       "      </script>\n",
       "    </div>\n",
       "  </div>\n",
       "  "
      ],
      "text/plain": [
       "                              Current Loan Amount  Credit Score  \\\n",
       "Current Loan Amount                      1.000000     -0.139743   \n",
       "Credit Score                            -0.139743      1.000000   \n",
       "Annual Income                            0.024069     -0.033221   \n",
       "Years of Credit History                  0.014725     -0.011658   \n",
       "Months since last delinquent             0.003488     -0.007994   \n",
       "Number of Open Accounts                 -0.003094      0.008124   \n",
       "Number of Credit Problems               -0.000062      0.000777   \n",
       "Current Credit Balance                   0.003138     -0.003263   \n",
       "Bankruptcies                             0.003576     -0.003426   \n",
       "Tax Liens                               -0.003069      0.004381   \n",
       "\n",
       "                              Annual Income  Years of Credit History  \\\n",
       "Current Loan Amount                0.024069                 0.014725   \n",
       "Credit Score                      -0.033221                -0.011658   \n",
       "Annual Income                      1.000000                 0.146859   \n",
       "Years of Credit History            0.146859                 1.000000   \n",
       "Months since last delinquent      -0.059675                -0.039695   \n",
       "Number of Open Accounts            0.140463                 0.128033   \n",
       "Number of Credit Problems         -0.013672                 0.061251   \n",
       "Current Credit Balance             0.292165                 0.201001   \n",
       "Bankruptcies                      -0.044837                 0.062049   \n",
       "Tax Liens                          0.038185                 0.020915   \n",
       "\n",
       "                              Months since last delinquent  \\\n",
       "Current Loan Amount                               0.003488   \n",
       "Credit Score                                     -0.007994   \n",
       "Annual Income                                    -0.059675   \n",
       "Years of Credit History                          -0.039695   \n",
       "Months since last delinquent                      1.000000   \n",
       "Number of Open Accounts                          -0.035803   \n",
       "Number of Credit Problems                         0.088612   \n",
       "Current Credit Balance                           -0.024292   \n",
       "Bankruptcies                                      0.112907   \n",
       "Tax Liens                                         0.002730   \n",
       "\n",
       "                              Number of Open Accounts  \\\n",
       "Current Loan Amount                         -0.003094   \n",
       "Credit Score                                 0.008124   \n",
       "Annual Income                                0.140463   \n",
       "Years of Credit History                      0.128033   \n",
       "Months since last delinquent                -0.035803   \n",
       "Number of Open Accounts                      1.000000   \n",
       "Number of Credit Problems                   -0.013731   \n",
       "Current Credit Balance                       0.222763   \n",
       "Bankruptcies                                -0.022805   \n",
       "Tax Liens                                    0.005754   \n",
       "\n",
       "                              Number of Credit Problems  \\\n",
       "Current Loan Amount                           -0.000062   \n",
       "Credit Score                                   0.000777   \n",
       "Annual Income                                 -0.013672   \n",
       "Years of Credit History                        0.061251   \n",
       "Months since last delinquent                   0.088612   \n",
       "Number of Open Accounts                       -0.013731   \n",
       "Number of Credit Problems                      1.000000   \n",
       "Current Credit Balance                        -0.103814   \n",
       "Bankruptcies                                   0.755866   \n",
       "Tax Liens                                      0.584917   \n",
       "\n",
       "                              Current Credit Balance  Bankruptcies  Tax Liens  \n",
       "Current Loan Amount                         0.003138      0.003576  -0.003069  \n",
       "Credit Score                               -0.003263     -0.003426   0.004381  \n",
       "Annual Income                               0.292165     -0.044837   0.038185  \n",
       "Years of Credit History                     0.201001      0.062049   0.020915  \n",
       "Months since last delinquent               -0.024292      0.112907   0.002730  \n",
       "Number of Open Accounts                     0.222763     -0.022805   0.005754  \n",
       "Number of Credit Problems                  -0.103814      0.755866   0.584917  \n",
       "Current Credit Balance                      1.000000     -0.117995  -0.011118  \n",
       "Bankruptcies                               -0.117995      1.000000   0.046160  \n",
       "Tax Liens                                  -0.011118      0.046160   1.000000  "
      ]
     },
     "execution_count": 8,
     "metadata": {},
     "output_type": "execute_result"
    }
   ],
   "source": [
    "df.corr()"
   ]
  },
  {
   "cell_type": "code",
   "execution_count": null,
   "metadata": {
    "colab": {
     "base_uri": "https://localhost:8080/",
     "height": 801
    },
    "id": "1ExlET-Vvwsd",
    "outputId": "9c1dad12-df47-469d-a076-7f3b46f4d15e"
   },
   "outputs": [
    {
     "data": {
      "text/plain": [
       "<Axes: >"
      ]
     },
     "execution_count": 9,
     "metadata": {},
     "output_type": "execute_result"
    },
    {
     "data": {
      "image/png": "[encoded data removed]",
      "text/plain": [
       "<Figure size 792x792 with 2 Axes>"
      ]
     },
     "metadata": {},
     "output_type": "display_data"
    }
   ],
   "source": [
    "fig, ax = plt.subplots(figsize=(11,11))         # Sample figsize in inches\n",
    "sns.heatmap(df.corr(),annot=True)"
   ]
  },
  {
   "cell_type": "code",
   "execution_count": null,
   "metadata": {
    "colab": {
     "base_uri": "https://localhost:8080/"
    },
    "id": "ZWjUeyKI1Q9l",
    "outputId": "d59c2155-8fb4-4677-a4ad-8b52c404430a"
   },
   "outputs": [
    {
     "data": {
      "text/plain": [
       "Months since last delinquent    140383\n",
       "Credit Score                     61676\n",
       "Annual Income                    61676\n",
       "Years in current job             11476\n",
       "Bankruptcies                       529\n",
       "Tax Liens                           23\n",
       "Years of Credit History              0\n",
       "Maximum Open Credit                  0\n",
       "Current Credit Balance               0\n",
       "Number of Credit Problems            0\n",
       "Number of Open Accounts              0\n",
       "Loan ID                              0\n",
       "Monthly Debt                         0\n",
       "Customer ID                          0\n",
       "Home Ownership                       0\n",
       "Term                                 0\n",
       "Current Loan Amount                  0\n",
       "Loan Status                          0\n",
       "Purpose                              0\n",
       "dtype: int64"
      ]
     },
     "execution_count": 10,
     "metadata": {},
     "output_type": "execute_result"
    }
   ],
   "source": [
    "df.isnull().sum().sort_values(ascending=False)"
   ]
  },
  {
   "cell_type": "code",
   "execution_count": null,
   "metadata": {
    "colab": {
     "base_uri": "https://localhost:8080/",
     "height": 468
    },
    "id": "6j9NMKK01h6s",
    "outputId": "d8e51d24-c01f-4bbb-e57c-1edd9588ee2d"
   },
   "outputs": [
    {
     "data": {
      "text/html": [
       "\n",
       "  <div id=\"df-6f3a47a0-4baf-42da-a9d1-65cceebaf906\">\n",
       "    <div class=\"colab-df-container\">\n",
       "      <div>\n",
       "<style scoped>\n",
       "    .dataframe tbody tr th:only-of-type {\n",
       "        vertical-align: middle;\n",
       "    }\n",
       "\n",
       "    .dataframe tbody tr th {\n",
       "        vertical-align: top;\n",
       "    }\n",
       "\n",
       "    .dataframe thead th {\n",
       "        text-align: right;\n",
       "    }\n",
       "</style>\n",
       "<table border=\"1\" class=\"dataframe\">\n",
       "  <thead>\n",
       "    <tr style=\"text-align: right;\">\n",
       "      <th></th>\n",
       "      <th>Loan ID</th>\n",
       "      <th>Customer ID</th>\n",
       "      <th>Loan Status</th>\n",
       "      <th>Term</th>\n",
       "      <th>Years in current job</th>\n",
       "      <th>Home Ownership</th>\n",
       "      <th>Purpose</th>\n",
       "      <th>Monthly Debt</th>\n",
       "      <th>Maximum Open Credit</th>\n",
       "    </tr>\n",
       "  </thead>\n",
       "  <tbody>\n",
       "    <tr>\n",
       "      <th>0</th>\n",
       "      <td>000025bb-5694-4cff-b17d-192b1a98ba44</td>\n",
       "      <td>5ebc8bb1-5eb9-4404-b11b-a6eebc401a19</td>\n",
       "      <td>Fully Paid</td>\n",
       "      <td>Short Term</td>\n",
       "      <td>10+ years</td>\n",
       "      <td>Home Mortgage</td>\n",
       "      <td>Debt Consolidation</td>\n",
       "      <td>$584.03</td>\n",
       "      <td>16056</td>\n",
       "    </tr>\n",
       "    <tr>\n",
       "      <th>1</th>\n",
       "      <td>00002c49-3a29-4bd4-8f67-c8f8fbc1048c</td>\n",
       "      <td>927b388d-2e01-423f-a8dc-f7e42d668f46</td>\n",
       "      <td>Fully Paid</td>\n",
       "      <td>Short Term</td>\n",
       "      <td>4 years</td>\n",
       "      <td>Home Mortgage</td>\n",
       "      <td>other</td>\n",
       "      <td>$1,106.04</td>\n",
       "      <td>19149</td>\n",
       "    </tr>\n",
       "    <tr>\n",
       "      <th>2</th>\n",
       "      <td>00002d89-27f3-409b-aa76-90834f359a65</td>\n",
       "      <td>defce609-c631-447d-aad6-1270615e89c4</td>\n",
       "      <td>Fully Paid</td>\n",
       "      <td>Short Term</td>\n",
       "      <td>10+ years</td>\n",
       "      <td>Home Mortgage</td>\n",
       "      <td>Debt Consolidation</td>\n",
       "      <td>$1,321.85</td>\n",
       "      <td>28335</td>\n",
       "    </tr>\n",
       "    <tr>\n",
       "      <th>3</th>\n",
       "      <td>00005222-b4d8-45a4-ad8c-186057e24233</td>\n",
       "      <td>070bcecb-aae7-4485-a26a-e0403e7bb6c5</td>\n",
       "      <td>Fully Paid</td>\n",
       "      <td>Short Term</td>\n",
       "      <td>10+ years</td>\n",
       "      <td>Own Home</td>\n",
       "      <td>Debt Consolidation</td>\n",
       "      <td>$751.92</td>\n",
       "      <td>43915</td>\n",
       "    </tr>\n",
       "    <tr>\n",
       "      <th>4</th>\n",
       "      <td>0000757f-a121-41ed-b17b-162e76647c1f</td>\n",
       "      <td>dde79588-12f0-4811-bab0-e2b07f633fcd</td>\n",
       "      <td>Fully Paid</td>\n",
       "      <td>Short Term</td>\n",
       "      <td>4 years</td>\n",
       "      <td>Rent</td>\n",
       "      <td>Debt Consolidation</td>\n",
       "      <td>$355.18</td>\n",
       "      <td>37081</td>\n",
       "    </tr>\n",
       "    <tr>\n",
       "      <th>...</th>\n",
       "      <td>...</td>\n",
       "      <td>...</td>\n",
       "      <td>...</td>\n",
       "      <td>...</td>\n",
       "      <td>...</td>\n",
       "      <td>...</td>\n",
       "      <td>...</td>\n",
       "      <td>...</td>\n",
       "      <td>...</td>\n",
       "    </tr>\n",
       "    <tr>\n",
       "      <th>256979</th>\n",
       "      <td>fffef5b7-be99-4666-ac70-2a397d2ee435</td>\n",
       "      <td>7211a8e3-cba4-4132-b939-222eed8a662c</td>\n",
       "      <td>Fully Paid</td>\n",
       "      <td>Short Term</td>\n",
       "      <td>2 years</td>\n",
       "      <td>Rent</td>\n",
       "      <td>Debt Consolidation</td>\n",
       "      <td>$1,706.58</td>\n",
       "      <td>44080</td>\n",
       "    </tr>\n",
       "    <tr>\n",
       "      <th>256980</th>\n",
       "      <td>ffffca93-aa8c-4123-b8ff-7852f6df889a</td>\n",
       "      <td>616fef0c-8f09-4327-9b5c-48fcfaa52934</td>\n",
       "      <td>Fully Paid</td>\n",
       "      <td>Short Term</td>\n",
       "      <td>10+ years</td>\n",
       "      <td>Own Home</td>\n",
       "      <td>Debt Consolidation</td>\n",
       "      <td>$1,376.47</td>\n",
       "      <td>9758</td>\n",
       "    </tr>\n",
       "    <tr>\n",
       "      <th>256981</th>\n",
       "      <td>ffffcb2e-e48e-4d2c-a0d6-ed6bce5bfdbe</td>\n",
       "      <td>971a6682-183b-4a52-8bce-1d3429ade295</td>\n",
       "      <td>Charged Off</td>\n",
       "      <td>Short Term</td>\n",
       "      <td>9 years</td>\n",
       "      <td>Home Mortgage</td>\n",
       "      <td>Debt Consolidation</td>\n",
       "      <td>$297.96</td>\n",
       "      <td>20090</td>\n",
       "    </tr>\n",
       "    <tr>\n",
       "      <th>256982</th>\n",
       "      <td>ffffcb2e-e48e-4d2c-a0d6-ed6bce5bfdbe</td>\n",
       "      <td>971a6682-183b-4a52-8bce-1d3429ade295</td>\n",
       "      <td>Charged Off</td>\n",
       "      <td>Short Term</td>\n",
       "      <td>9 years</td>\n",
       "      <td>Home Mortgage</td>\n",
       "      <td>Debt Consolidation</td>\n",
       "      <td>$297.96</td>\n",
       "      <td>20090</td>\n",
       "    </tr>\n",
       "    <tr>\n",
       "      <th>256983</th>\n",
       "      <td>ffffe32e-ed17-459f-9cfd-7b9ee7972933</td>\n",
       "      <td>97281336-1e45-41d2-acb2-263ce56a590e</td>\n",
       "      <td>Fully Paid</td>\n",
       "      <td>Long Term</td>\n",
       "      <td>10+ years</td>\n",
       "      <td>Home Mortgage</td>\n",
       "      <td>Debt Consolidation</td>\n",
       "      <td>$2,525.82</td>\n",
       "      <td>62371</td>\n",
       "    </tr>\n",
       "  </tbody>\n",
       "</table>\n",
       "<p>256984 rows × 9 columns</p>\n",
       "</div>\n",
       "      <button class=\"colab-df-convert\" onclick=\"convertToInteractive('df-6f3a47a0-4baf-42da-a9d1-65cceebaf906')\"\n",
       "              title=\"Convert this dataframe to an interactive table.\"\n",
       "              style=\"display:none;\">\n",
       "        \n",
       "  <svg xmlns=\"http://www.w3.org/2000/svg\" height=\"24px\"viewBox=\"0 0 24 24\"\n",
       "       width=\"24px\">\n",
       "    <path d=\"M0 0h24v24H0V0z\" fill=\"none\"/>\n",
       "    <path d=\"M18.56 5.44l.94 2.06.94-2.06 2.06-.94-2.06-.94-.94-2.06-.94 2.06-2.06.94zm-11 1L8.5 8.5l.94-2.06 2.06-.94-2.06-.94L8.5 2.5l-.94 2.06-2.06.94zm10 10l.94 2.06.94-2.06 2.06-.94-2.06-.94-.94-2.06-.94 2.06-2.06.94z\"/><path d=\"M17.41 7.96l-1.37-1.37c-.4-.4-.92-.59-1.43-.59-.52 0-1.04.2-1.43.59L10.3 9.45l-7.72 7.72c-.78.78-.78 2.05 0 2.83L4 21.41c.39.39.9.59 1.41.59.51 0 1.02-.2 1.41-.59l7.78-7.78 2.81-2.81c.8-.78.8-2.07 0-2.86zM5.41 20L4 18.59l7.72-7.72 1.47 1.35L5.41 20z\"/>\n",
       "  </svg>\n",
       "      </button>\n",
       "      \n",
       "  <style>\n",
       "    .colab-df-container {\n",
       "      display:flex;\n",
       "      flex-wrap:wrap;\n",
       "      gap: 12px;\n",
       "    }\n",
       "\n",
       "    .colab-df-convert {\n",
       "      background-color: #E8F0FE;\n",
       "      border: none;\n",
       "      border-radius: 50%;\n",
       "      cursor: pointer;\n",
       "      display: none;\n",
       "      fill: #1967D2;\n",
       "      height: 32px;\n",
       "      padding: 0 0 0 0;\n",
       "      width: 32px;\n",
       "    }\n",
       "\n",
       "    .colab-df-convert:hover {\n",
       "      background-color: #E2EBFA;\n",
       "      box-shadow: 0px 1px 2px rgba(60, 64, 67, 0.3), 0px 1px 3px 1px rgba(60, 64, 67, 0.15);\n",
       "      fill: #174EA6;\n",
       "    }\n",
       "\n",
       "    [theme=dark] .colab-df-convert {\n",
       "      background-color: #3B4455;\n",
       "      fill: #D2E3FC;\n",
       "    }\n",
       "\n",
       "    [theme=dark] .colab-df-convert:hover {\n",
       "      background-color: #434B5C;\n",
       "      box-shadow: 0px 1px 3px 1px rgba(0, 0, 0, 0.15);\n",
       "      filter: drop-shadow(0px 1px 2px rgba(0, 0, 0, 0.3));\n",
       "      fill: #FFFFFF;\n",
       "    }\n",
       "  </style>\n",
       "\n",
       "      <script>\n",
       "        const buttonEl =\n",
       "          document.querySelector('#df-6f3a47a0-4baf-42da-a9d1-65cceebaf906 button.colab-df-convert');\n",
       "        buttonEl.style.display =\n",
       "          google.colab.kernel.accessAllowed ? 'block' : 'none';\n",
       "\n",
       "        async function convertToInteractive(key) {\n",
       "          const element = document.querySelector('#df-6f3a47a0-4baf-42da-a9d1-65cceebaf906');\n",
       "          const dataTable =\n",
       "            await google.colab.kernel.invokeFunction('convertToInteractive',\n",
       "                                                     [key], {});\n",
       "          if (!dataTable) return;\n",
       "\n",
       "          const docLinkHtml = 'Like what you see? Visit the ' +\n",
       "            '<a target=\"_blank\" href=https://colab.research.google.com/notebooks/data_table.ipynb>data table notebook</a>'\n",
       "            + ' to learn more about interactive tables.';\n",
       "          element.innerHTML = '';\n",
       "          dataTable['output_type'] = 'display_data';\n",
       "          await google.colab.output.renderOutput(dataTable, element);\n",
       "          const docLink = document.createElement('div');\n",
       "          docLink.innerHTML = docLinkHtml;\n",
       "          element.appendChild(docLink);\n",
       "        }\n",
       "      </script>\n",
       "    </div>\n",
       "  </div>\n",
       "  "
      ],
      "text/plain": [
       "                                     Loan ID  \\\n",
       "0       000025bb-5694-4cff-b17d-192b1a98ba44   \n",
       "1       00002c49-3a29-4bd4-8f67-c8f8fbc1048c   \n",
       "2       00002d89-27f3-409b-aa76-90834f359a65   \n",
       "3       00005222-b4d8-45a4-ad8c-186057e24233   \n",
       "4       0000757f-a121-41ed-b17b-162e76647c1f   \n",
       "...                                      ...   \n",
       "256979  fffef5b7-be99-4666-ac70-2a397d2ee435   \n",
       "256980  ffffca93-aa8c-4123-b8ff-7852f6df889a   \n",
       "256981  ffffcb2e-e48e-4d2c-a0d6-ed6bce5bfdbe   \n",
       "256982  ffffcb2e-e48e-4d2c-a0d6-ed6bce5bfdbe   \n",
       "256983  ffffe32e-ed17-459f-9cfd-7b9ee7972933   \n",
       "\n",
       "                                 Customer ID  Loan Status        Term  \\\n",
       "0       5ebc8bb1-5eb9-4404-b11b-a6eebc401a19   Fully Paid  Short Term   \n",
       "1       927b388d-2e01-423f-a8dc-f7e42d668f46   Fully Paid  Short Term   \n",
       "2       defce609-c631-447d-aad6-1270615e89c4   Fully Paid  Short Term   \n",
       "3       070bcecb-aae7-4485-a26a-e0403e7bb6c5   Fully Paid  Short Term   \n",
       "4       dde79588-12f0-4811-bab0-e2b07f633fcd   Fully Paid  Short Term   \n",
       "...                                      ...          ...         ...   \n",
       "256979  7211a8e3-cba4-4132-b939-222eed8a662c   Fully Paid  Short Term   \n",
       "256980  616fef0c-8f09-4327-9b5c-48fcfaa52934   Fully Paid  Short Term   \n",
       "256981  971a6682-183b-4a52-8bce-1d3429ade295  Charged Off  Short Term   \n",
       "256982  971a6682-183b-4a52-8bce-1d3429ade295  Charged Off  Short Term   \n",
       "256983  97281336-1e45-41d2-acb2-263ce56a590e   Fully Paid   Long Term   \n",
       "\n",
       "       Years in current job Home Ownership             Purpose Monthly Debt  \\\n",
       "0                 10+ years  Home Mortgage  Debt Consolidation      $584.03   \n",
       "1                   4 years  Home Mortgage               other   $1,106.04    \n",
       "2                 10+ years  Home Mortgage  Debt Consolidation   $1,321.85    \n",
       "3                 10+ years       Own Home  Debt Consolidation      $751.92   \n",
       "4                   4 years           Rent  Debt Consolidation      $355.18   \n",
       "...                     ...            ...                 ...          ...   \n",
       "256979              2 years           Rent  Debt Consolidation   $1,706.58    \n",
       "256980            10+ years       Own Home  Debt Consolidation   $1,376.47    \n",
       "256981              9 years  Home Mortgage  Debt Consolidation      $297.96   \n",
       "256982              9 years  Home Mortgage  Debt Consolidation      $297.96   \n",
       "256983            10+ years  Home Mortgage  Debt Consolidation   $2,525.82    \n",
       "\n",
       "       Maximum Open Credit  \n",
       "0                    16056  \n",
       "1                    19149  \n",
       "2                    28335  \n",
       "3                    43915  \n",
       "4                    37081  \n",
       "...                    ...  \n",
       "256979               44080  \n",
       "256980                9758  \n",
       "256981               20090  \n",
       "256982               20090  \n",
       "256983               62371  \n",
       "\n",
       "[256984 rows x 9 columns]"
      ]
     },
     "execution_count": 11,
     "metadata": {},
     "output_type": "execute_result"
    }
   ],
   "source": [
    "## Object Data Tipinde Kolonları Listelemiş Oluyoruz.\n",
    "df.select_dtypes(\"object_\")"
   ]
  },
  {
   "cell_type": "code",
   "execution_count": null,
   "metadata": {
    "id": "GLsR3MqV0Stl"
   },
   "outputs": [],
   "source": [
    "# Normalization and Standardization"
   ]
  },
  {
   "cell_type": "code",
   "execution_count": null,
   "metadata": {
    "id": "0JwQ6ii30Uo-"
   },
   "outputs": [],
   "source": [
    "# Sürekli Kullanacağımız internal Function için Generic Function Oluşturulur.\n",
    "# Don't Repeat Yourself - Kendinizi Sürekli Tekrar Etmeyin"
   ]
  },
  {
   "cell_type": "code",
   "execution_count": null,
   "metadata": {
    "id": "Sj7O5GkK0cRH"
   },
   "outputs": [],
   "source": [
    "##Her Seferinde Tek Tek Yazmak Yerine Bi tane Function işimizi Görecektir. DataType bağlı Cond. Çalıştırır.\n",
    "def fnc_Column_Analysis (pcolumn):\n",
    "    if(df[pcolumn].dtype == 'O'):\n",
    "        print('Data Type String')\n",
    "        print(pcolumn,'Unique List..................................:',df[pcolumn].unique())\n",
    "        print(pcolumn,'Mode List....................................:',df[pcolumn].mode())\n",
    "        print(pcolumn,'NullCount List...............................:',df[pcolumn].isnull().sum())      \n",
    "        \n",
    "        df[pcolumn].value_counts().plot.bar()\n",
    "        \n",
    "        if df[pcolumn].isnull().sum()>0:\n",
    "            print('Na Dönüşümü Yapıldı')\n",
    "            df[pcolumn].fillna(df[pcolumn].mode()[0], inplace=True)\n",
    "        \n",
    "    elif(df[pcolumn].dtype != 'O'):\n",
    "        print('Data Type integer')        \n",
    "        print(pcolumn,'Mean List....................................:',df[pcolumn].mean())\n",
    "        print(pcolumn,'NullCount List...............................:',df[pcolumn].isnull().sum())\n",
    "        \n",
    "        sns.boxplot(df[pcolumn])\n",
    "\n",
    "        if df[pcolumn].isnull().sum()>0:\n",
    "            print('Na Dönüşümü Yapıldı')\n",
    "            df[pcolumn].fillna(df[pcolumn].mean(), inplace=True)        \n",
    "            ##df.LotFrontage.fillna(df.LotFrontage.mean(),inplace=True)"
   ]
  },
  {
   "cell_type": "code",
   "execution_count": null,
   "metadata": {
    "colab": {
     "base_uri": "https://localhost:8080/",
     "height": 334
    },
    "id": "h3g-O_jnuhKR",
    "outputId": "00cc95c2-aaf8-43fa-f9ba-8fb6cfcafe22"
   },
   "outputs": [
    {
     "name": "stdout",
     "output_type": "stream",
     "text": [
      "Data Type integer\n",
      "Credit Score Mean List....................................: 1251.1160986749135\n",
      "Credit Score NullCount List...............................: 61676\n",
      "Na Dönüşümü Yapıldı\n"
     ]
    },
    {
     "data": {
      "image/png": "[encoded data removed]",
      "text/plain": [
       "<Figure size 432x288 with 1 Axes>"
      ]
     },
     "metadata": {},
     "output_type": "display_data"
    }
   ],
   "source": [
    "## Credit Score: A value between 0 and 800 indicating the riskiness of the borrowers credit history.\n",
    "fnc_Column_Analysis('Credit Score')"
   ]
  },
  {
   "cell_type": "code",
   "execution_count": null,
   "metadata": {
    "colab": {
     "base_uri": "https://localhost:8080/",
     "height": 279
    },
    "id": "-Ii4kAMEvQPm",
    "outputId": "595e9ec3-9565-456d-eaab-b452435c75d5"
   },
   "outputs": [
    {
     "data": {
      "image/png": "[encoded data removed]",
      "text/plain": [
       "<Figure size 432x288 with 1 Axes>"
      ]
     },
     "metadata": {},
     "output_type": "display_data"
    }
   ],
   "source": [
    "sns.distplot(df['Credit Score']);"
   ]
  },
  {
   "cell_type": "code",
   "execution_count": null,
   "metadata": {
    "colab": {
     "base_uri": "https://localhost:8080/"
    },
    "id": "RNw53r0kvUMn",
    "outputId": "4f4e53ec-80ce-4336-8c2c-1c3513fb4418"
   },
   "outputs": [
    {
     "data": {
      "text/plain": [
       "1251.116099    61676\n",
       "747.000000      5669\n",
       "740.000000      5537\n",
       "741.000000      5499\n",
       "746.000000      5486\n",
       "               ...  \n",
       "6070.000000        3\n",
       "5980.000000        3\n",
       "5910.000000        3\n",
       "5930.000000        2\n",
       "5860.000000        1\n",
       "Name: Credit Score, Length: 335, dtype: int64"
      ]
     },
     "execution_count": 17,
     "metadata": {},
     "output_type": "execute_result"
    }
   ],
   "source": [
    "df['Credit Score'].value_counts()"
   ]
  },
  {
   "cell_type": "code",
   "execution_count": null,
   "metadata": {
    "id": "AvdQKb6TvlDm"
   },
   "outputs": [],
   "source": [
    "##Maximum 800 Kredi Skoru Olabildiğinden burada Anormal bir duurm mevcut.\n",
    "df[\"Credit Score\"] =np.where(df[\"Credit Score\"] > 800, 800, df[\"Credit Score\"])"
   ]
  },
  {
   "cell_type": "code",
   "execution_count": null,
   "metadata": {
    "colab": {
     "base_uri": "https://localhost:8080/"
    },
    "id": "7oata8tfwDBR",
    "outputId": "23450741-c6b5-48b7-d8ed-4d048093c559"
   },
   "outputs": [
    {
     "data": {
      "text/plain": [
       "800.0    77863\n",
       "747.0     5669\n",
       "740.0     5537\n",
       "741.0     5499\n",
       "746.0     5486\n",
       "         ...  \n",
       "585.0       18\n",
       "590.0       18\n",
       "593.0       17\n",
       "591.0       15\n",
       "589.0       15\n",
       "Name: Credit Score, Length: 168, dtype: int64"
      ]
     },
     "execution_count": 19,
     "metadata": {},
     "output_type": "execute_result"
    }
   ],
   "source": [
    "df['Credit Score'].value_counts().sort_values(ascending=False)"
   ]
  },
  {
   "cell_type": "code",
   "execution_count": null,
   "metadata": {
    "colab": {
     "base_uri": "https://localhost:8080/",
     "height": 279
    },
    "id": "4aSP8_RTv9mm",
    "outputId": "96c76e21-eb1f-422a-f084-140f0a1773a5"
   },
   "outputs": [
    {
     "data": {
      "image/png": "[encoded data removed]",
      "text/plain": [
       "<Figure size 432x288 with 1 Axes>"
      ]
     },
     "metadata": {},
     "output_type": "display_data"
    }
   ],
   "source": [
    "sns.distplot(df['Credit Score']);"
   ]
  },
  {
   "cell_type": "code",
   "execution_count": null,
   "metadata": {
    "colab": {
     "base_uri": "https://localhost:8080/",
     "height": 345
    },
    "id": "t_GiYFJuw1_7",
    "outputId": "64c87968-b745-443b-87ad-8379e22d02ff"
   },
   "outputs": [
    {
     "name": "stdout",
     "output_type": "stream",
     "text": [
      "Data Type integer\n",
      "Annual Income Mean List....................................: 71952.71618674094\n",
      "Annual Income NullCount List...............................: 61676\n",
      "Na Dönüşümü Yapıldı\n"
     ]
    },
    {
     "data": {
      "image/png": "[encoded data removed]",
      "text/plain": [
       "<Figure size 432x288 with 1 Axes>"
      ]
     },
     "metadata": {},
     "output_type": "display_data"
    }
   ],
   "source": [
    "# Annual Income: The customer's annual income\n",
    "fnc_Column_Analysis('Annual Income')"
   ]
  },
  {
   "cell_type": "code",
   "execution_count": null,
   "metadata": {
    "colab": {
     "base_uri": "https://localhost:8080/"
    },
    "id": "pwjSmUhLx1L9",
    "outputId": "cd685146-fb0d-462c-f455-479e1e1f06c6"
   },
   "outputs": [
    {
     "data": {
      "text/plain": [
       "12.0     2224\n",
       "14.0     2196\n",
       "15.0     2189\n",
       "8.0      2164\n",
       "9.0      2127\n",
       "         ... \n",
       "112.0       1\n",
       "149.0       1\n",
       "133.0       1\n",
       "115.0       1\n",
       "119.0       1\n",
       "Name: Months since last delinquent, Length: 131, dtype: int64"
      ]
     },
     "execution_count": 22,
     "metadata": {},
     "output_type": "execute_result"
    }
   ],
   "source": [
    "##Months since last delinquent: Months since the last loan delinquent payment\n",
    "df['Months since last delinquent'].value_counts().sort_values(ascending=False)"
   ]
  },
  {
   "cell_type": "code",
   "execution_count": null,
   "metadata": {
    "colab": {
     "base_uri": "https://localhost:8080/"
    },
    "id": "ifq0h9MoyGQp",
    "outputId": "92e0aaa3-0917-459b-cba8-e32d65aaaa99"
   },
   "outputs": [
    {
     "data": {
      "text/plain": [
       "140383"
      ]
     },
     "execution_count": 23,
     "metadata": {},
     "output_type": "execute_result"
    }
   ],
   "source": [
    "df['Months since last delinquent'].isnull().sum()"
   ]
  },
  {
   "cell_type": "code",
   "execution_count": null,
   "metadata": {
    "id": "mfom1u4wxH5k"
   },
   "outputs": [],
   "source": [
    "#Boşları 0 doldulrluld.\n",
    "df['Months since last delinquent'].fillna(\"0\",inplace=True)\n",
    "#Data Type Dönüşümü Yapıldı.\n",
    "df['Months since last delinquent']=df['Months since last delinquent'].astype(int)"
   ]
  },
  {
   "cell_type": "code",
   "execution_count": null,
   "metadata": {
    "id": "zcxdjMhfzG76"
   },
   "outputs": [],
   "source": [
    "## 90 üzerinde anlamsız verileri düzenlemiş olduk \n",
    "df['Months since last delinquent'] =np.where(df['Months since last delinquent'] > 90, 90, df['Months since last delinquent'])"
   ]
  },
  {
   "cell_type": "code",
   "execution_count": null,
   "metadata": {
    "colab": {
     "base_uri": "https://localhost:8080/",
     "height": 279
    },
    "id": "y9cfmnstznmB",
    "outputId": "550ac301-2c13-476c-cc96-505c43bc76ac"
   },
   "outputs": [
    {
     "data": {
      "image/png": "[encoded data removed]",
      "text/plain": [
       "<Figure size 432x288 with 1 Axes>"
      ]
     },
     "metadata": {},
     "output_type": "display_data"
    }
   ],
   "source": [
    "sns.distplot(df['Months since last delinquent']);"
   ]
  },
  {
   "cell_type": "code",
   "execution_count": null,
   "metadata": {
    "colab": {
     "base_uri": "https://localhost:8080/"
    },
    "id": "aUzOzb8Yz0V5",
    "outputId": "c22af69c-7b07-4b89-89f5-560f521235e3"
   },
   "outputs": [
    {
     "data": {
      "text/plain": [
       "0         10+ years\n",
       "1           4 years\n",
       "2         10+ years\n",
       "3         10+ years\n",
       "4           4 years\n",
       "            ...    \n",
       "256979      2 years\n",
       "256980    10+ years\n",
       "256981      9 years\n",
       "256982      9 years\n",
       "256983    10+ years\n",
       "Name: Years in current job, Length: 256984, dtype: object"
      ]
     },
     "execution_count": 27,
     "metadata": {},
     "output_type": "execute_result"
    }
   ],
   "source": [
    "## Years in current job: A categorical variable indicating how many years the customer has been in their current job.\n",
    "df['Years in current job']"
   ]
  },
  {
   "cell_type": "code",
   "execution_count": null,
   "metadata": {
    "id": "iTEdbyQJ0Cv2"
   },
   "outputs": [],
   "source": [
    "## Gereksiz Karekterlerin Kaldırılması + years\n",
    "df['Years in current job'].replace('[^0-9]',\"\",inplace=True,regex=True)"
   ]
  },
  {
   "cell_type": "code",
   "execution_count": null,
   "metadata": {
    "colab": {
     "base_uri": "https://localhost:8080/",
     "height": 372
    },
    "id": "k9UYoWhW0aLt",
    "outputId": "b2e2b1d7-604c-460e-bade-d1e5733ba696"
   },
   "outputs": [
    {
     "name": "stdout",
     "output_type": "stream",
     "text": [
      "Data Type String\n",
      "Years in current job Unique List..................................: ['10' '4' '6' '5' nan '3' '2' '1' '7' '9' '8']\n",
      "Years in current job Mode List....................................: 0    10\n",
      "Name: Years in current job, dtype: object\n",
      "Years in current job NullCount List...............................: 11476\n",
      "Na Dönüşümü Yapıldı\n"
     ]
    },
    {
     "data": {
      "image/png": "[encoded data removed]",
      "text/plain": [
       "<Figure size 432x288 with 1 Axes>"
      ]
     },
     "metadata": {},
     "output_type": "display_data"
    }
   ],
   "source": [
    "fnc_Column_Analysis('Years in current job')"
   ]
  },
  {
   "cell_type": "code",
   "execution_count": null,
   "metadata": {
    "id": "6Kbx9gvT4e7q"
   },
   "outputs": [],
   "source": [
    "## DataType Dönüşümü Yapıldı.\n",
    "df['Years in current job']=df['Years in current job'].astype(int)"
   ]
  },
  {
   "cell_type": "code",
   "execution_count": null,
   "metadata": {
    "colab": {
     "base_uri": "https://localhost:8080/"
    },
    "id": "wiXIb0SJ03La",
    "outputId": "27175a91-463f-4afd-c672-fa11a2639619"
   },
   "outputs": [
    {
     "data": {
      "text/plain": [
       "0         16056\n",
       "1         19149\n",
       "2         28335\n",
       "3         43915\n",
       "4         37081\n",
       "          ...  \n",
       "256979    44080\n",
       "256980     9758\n",
       "256981    20090\n",
       "256982    20090\n",
       "256983    62371\n",
       "Name: Maximum Open Credit, Length: 256984, dtype: object"
      ]
     },
     "execution_count": 31,
     "metadata": {},
     "output_type": "execute_result"
    }
   ],
   "source": [
    "## Maximum Open Credit: The maximum credit limit for all credit sources.\n",
    "df['Maximum Open Credit']"
   ]
  },
  {
   "cell_type": "code",
   "execution_count": null,
   "metadata": {
    "colab": {
     "base_uri": "https://localhost:8080/"
    },
    "id": "Bw28oYg91GcZ",
    "outputId": "063aecdf-b7a8-45bf-8a34-c4e67afdc618"
   },
   "outputs": [
    {
     "data": {
      "text/plain": [
       "0"
      ]
     },
     "execution_count": 32,
     "metadata": {},
     "output_type": "execute_result"
    }
   ],
   "source": [
    "df['Maximum Open Credit'].isnull().sum()"
   ]
  },
  {
   "cell_type": "code",
   "execution_count": null,
   "metadata": {
    "id": "MeDwek8Y1XQL"
   },
   "outputs": [],
   "source": [
    "## Kirli Veriler Temizlendi. ve Datatype dönüşümü Yapıldı.\n",
    "df['Maximum Open Credit'].replace('[a-zA-Z@_!#$%^&*()<>?/\\|}{~:]',\"0\",inplace=True,regex=True)\n",
    "df['Maximum Open Credit']=df['Maximum Open Credit'].astype(float)"
   ]
  },
  {
   "cell_type": "code",
   "execution_count": null,
   "metadata": {
    "colab": {
     "base_uri": "https://localhost:8080/"
    },
    "id": "XjcQS96-1vcx",
    "outputId": "f280ef5c-9e87-43fc-f5a3-391e15aa1162"
   },
   "outputs": [
    {
     "data": {
      "text/plain": [
       "529"
      ]
     },
     "execution_count": 34,
     "metadata": {},
     "output_type": "execute_result"
    }
   ],
   "source": [
    "#Bankruptcies: The number of bankruptcies\n",
    "df['Bankruptcies'].isnull().sum()"
   ]
  },
  {
   "cell_type": "code",
   "execution_count": null,
   "metadata": {
    "colab": {
     "base_uri": "https://localhost:8080/",
     "height": 334
    },
    "id": "Kn2eEJEW2Jvp",
    "outputId": "0a5e883b-7f81-4a0a-a447-509a5007201a"
   },
   "outputs": [
    {
     "name": "stdout",
     "output_type": "stream",
     "text": [
      "Data Type integer\n",
      "Bankruptcies Mean List....................................: 0.11031564991908911\n",
      "Bankruptcies NullCount List...............................: 529\n",
      "Na Dönüşümü Yapıldı\n"
     ]
    },
    {
     "data": {
      "image/png": "[encoded data removed]",
      "text/plain": [
       "<Figure size 432x288 with 1 Axes>"
      ]
     },
     "metadata": {},
     "output_type": "display_data"
    }
   ],
   "source": [
    "fnc_Column_Analysis('Bankruptcies')"
   ]
  },
  {
   "cell_type": "code",
   "execution_count": null,
   "metadata": {
    "id": "sZunzkW92V_p"
   },
   "outputs": [],
   "source": [
    "df['Bankruptcies']=df['Bankruptcies'].astype(int)"
   ]
  },
  {
   "cell_type": "code",
   "execution_count": null,
   "metadata": {
    "id": "przmVnV32OFs"
   },
   "outputs": [],
   "source": [
    "df[\"Bankruptcies\"] =np.where(df[\"Bankruptcies\"] >= 3, 3, df[\"Bankruptcies\"])"
   ]
  },
  {
   "cell_type": "code",
   "execution_count": null,
   "metadata": {
    "colab": {
     "base_uri": "https://localhost:8080/",
     "height": 296
    },
    "id": "8SYEQd7W2n7Q",
    "outputId": "8e41f468-0fe2-4177-8d3e-0541f28b4b78"
   },
   "outputs": [
    {
     "data": {
      "text/plain": [
       "<Axes: xlabel='Bankruptcies', ylabel='Count'>"
      ]
     },
     "execution_count": 38,
     "metadata": {},
     "output_type": "execute_result"
    },
    {
     "data": {
      "image/png": "[encoded data removed]",
      "text/plain": [
       "<Figure size 432x288 with 1 Axes>"
      ]
     },
     "metadata": {},
     "output_type": "display_data"
    }
   ],
   "source": [
    "sns.histplot(df['Bankruptcies'])"
   ]
  },
  {
   "cell_type": "code",
   "execution_count": null,
   "metadata": {
    "colab": {
     "base_uri": "https://localhost:8080/"
    },
    "id": "1loQUYfm2qvE",
    "outputId": "120cc886-c475-4738-d1f3-96268987bca6"
   },
   "outputs": [
    {
     "data": {
      "text/plain": [
       "0         0.0\n",
       "1         0.0\n",
       "2         0.0\n",
       "3         0.0\n",
       "4         0.0\n",
       "         ... \n",
       "256979    0.0\n",
       "256980    0.0\n",
       "256981    0.0\n",
       "256982    0.0\n",
       "256983    0.0\n",
       "Name: Tax Liens, Length: 256984, dtype: float64"
      ]
     },
     "execution_count": 39,
     "metadata": {},
     "output_type": "execute_result"
    }
   ],
   "source": [
    "## Tax Liens: The number of tax liens.\n",
    "df['Tax Liens']"
   ]
  },
  {
   "cell_type": "code",
   "execution_count": null,
   "metadata": {
    "colab": {
     "base_uri": "https://localhost:8080/",
     "height": 334
    },
    "id": "GMKAG1F329ry",
    "outputId": "dfe5b321-7773-48e8-cab5-9ec0951f1e54"
   },
   "outputs": [
    {
     "name": "stdout",
     "output_type": "stream",
     "text": [
      "Data Type integer\n",
      "Tax Liens Mean List....................................: 0.027202571596467946\n",
      "Tax Liens NullCount List...............................: 23\n",
      "Na Dönüşümü Yapıldı\n"
     ]
    },
    {
     "data": {
      "image/png": "[encoded data removed]",
      "text/plain": [
       "<Figure size 432x288 with 1 Axes>"
      ]
     },
     "metadata": {},
     "output_type": "display_data"
    }
   ],
   "source": [
    "fnc_Column_Analysis('Tax Liens')"
   ]
  },
  {
   "cell_type": "code",
   "execution_count": null,
   "metadata": {
    "id": "HVaTOpKz23V4"
   },
   "outputs": [],
   "source": [
    "df['Tax Liens']=df['Tax Liens'].astype(int)"
   ]
  },
  {
   "cell_type": "code",
   "execution_count": null,
   "metadata": {
    "id": "In9v3gdn3EvL"
   },
   "outputs": [],
   "source": [
    "df[\"Tax Liens\"] =np.where(df[\"Tax Liens\"] >= 3, 3, df[\"Tax Liens\"])"
   ]
  },
  {
   "cell_type": "code",
   "execution_count": null,
   "metadata": {
    "colab": {
     "base_uri": "https://localhost:8080/",
     "height": 279
    },
    "id": "q4LFzD1I3MqQ",
    "outputId": "3f9679d7-f2d0-4e44-a036-1a8a946b2611"
   },
   "outputs": [
    {
     "data": {
      "image/png": "[encoded data removed]",
      "text/plain": [
       "<Figure size 432x288 with 1 Axes>"
      ]
     },
     "metadata": {},
     "output_type": "display_data"
    }
   ],
   "source": [
    "sns.distplot(df[\"Tax Liens\"]);"
   ]
  },
  {
   "cell_type": "code",
   "execution_count": null,
   "metadata": {
    "colab": {
     "base_uri": "https://localhost:8080/"
    },
    "id": "ib36VDCE3jz2",
    "outputId": "91c6cef0-5c24-492d-cb0c-5be71c2c75dc"
   },
   "outputs": [
    {
     "data": {
      "text/plain": [
       "0            $584.03\n",
       "1         $1,106.04 \n",
       "2         $1,321.85 \n",
       "3            $751.92\n",
       "4            $355.18\n",
       "             ...    \n",
       "256979    $1,706.58 \n",
       "256980    $1,376.47 \n",
       "256981       $297.96\n",
       "256982       $297.96\n",
       "256983    $2,525.82 \n",
       "Name: Monthly Debt, Length: 256984, dtype: object"
      ]
     },
     "execution_count": 44,
     "metadata": {},
     "output_type": "execute_result"
    }
   ],
   "source": [
    "## Monthly Debt: The customer's monthly payment for their existing loans\n",
    "df['Monthly Debt']"
   ]
  },
  {
   "cell_type": "code",
   "execution_count": null,
   "metadata": {
    "id": "lCM-rhBs3bCi"
   },
   "outputs": [],
   "source": [
    "#Monthly Debt object türünden fazla olan semboller kaldırılarak float türüne çevrildi\n",
    "df['Monthly Debt'].replace('[^0-9.]','',inplace=True,regex=True)\n",
    "df['Monthly Debt']=df['Monthly Debt'].astype(float)"
   ]
  },
  {
   "cell_type": "code",
   "execution_count": null,
   "metadata": {
    "colab": {
     "base_uri": "https://localhost:8080/",
     "height": 279
    },
    "id": "MclHf2UK3q8z",
    "outputId": "9adf1a80-b537-4192-b9ca-7b1985dae0c2"
   },
   "outputs": [
    {
     "data": {
      "image/png": "[encoded data removed]",
      "text/plain": [
       "<Figure size 432x288 with 1 Axes>"
      ]
     },
     "metadata": {},
     "output_type": "display_data"
    }
   ],
   "source": [
    "sns.distplot(df['Monthly Debt']);"
   ]
  },
  {
   "cell_type": "code",
   "execution_count": null,
   "metadata": {
    "id": "t5-CSnKE34Um"
   },
   "outputs": [],
   "source": [
    "df['Monthly Debt'] =np.where(df['Monthly Debt'] >= 5000, 5000, df['Monthly Debt'])"
   ]
  },
  {
   "cell_type": "code",
   "execution_count": null,
   "metadata": {
    "colab": {
     "base_uri": "https://localhost:8080/",
     "height": 279
    },
    "id": "GHtK7hg44BJL",
    "outputId": "2d6aa6ff-8852-42f0-9e38-ae69ba62111b"
   },
   "outputs": [
    {
     "data": {
      "image/png": "[encoded data removed]",
      "text/plain": [
       "<Figure size 432x288 with 1 Axes>"
      ]
     },
     "metadata": {},
     "output_type": "display_data"
    }
   ],
   "source": [
    "sns.distplot(df['Monthly Debt']);"
   ]
  },
  {
   "cell_type": "code",
   "execution_count": null,
   "metadata": {
    "colab": {
     "base_uri": "https://localhost:8080/"
    },
    "id": "-cD-GWLP4Nq2",
    "outputId": "95b52fee-9bce-4c0e-993c-0d55b6f3b33d"
   },
   "outputs": [
    {
     "data": {
      "text/plain": [
       "Loan ID                         0\n",
       "Customer ID                     0\n",
       "Loan Status                     0\n",
       "Current Loan Amount             0\n",
       "Term                            0\n",
       "Credit Score                    0\n",
       "Years in current job            0\n",
       "Home Ownership                  0\n",
       "Annual Income                   0\n",
       "Purpose                         0\n",
       "Monthly Debt                    0\n",
       "Years of Credit History         0\n",
       "Months since last delinquent    0\n",
       "Number of Open Accounts         0\n",
       "Number of Credit Problems       0\n",
       "Current Credit Balance          0\n",
       "Maximum Open Credit             0\n",
       "Bankruptcies                    0\n",
       "Tax Liens                       0\n",
       "dtype: int64"
      ]
     },
     "execution_count": 49,
     "metadata": {},
     "output_type": "execute_result"
    }
   ],
   "source": [
    "##Boş KKoln varmı  die yeniden bir bakyoryzç\n",
    "df.isnull().sum()"
   ]
  },
  {
   "cell_type": "code",
   "execution_count": null,
   "metadata": {
    "colab": {
     "base_uri": "https://localhost:8080/",
     "height": 424
    },
    "id": "KtXykObv5NUD",
    "outputId": "011365f2-9c48-4f40-ae23-72ad0fb2efbf"
   },
   "outputs": [
    {
     "data": {
      "text/html": [
       "\n",
       "  <div id=\"df-d438b46f-7634-42a3-9b29-35c40f0399bc\">\n",
       "    <div class=\"colab-df-container\">\n",
       "      <div>\n",
       "<style scoped>\n",
       "    .dataframe tbody tr th:only-of-type {\n",
       "        vertical-align: middle;\n",
       "    }\n",
       "\n",
       "    .dataframe tbody tr th {\n",
       "        vertical-align: top;\n",
       "    }\n",
       "\n",
       "    .dataframe thead th {\n",
       "        text-align: right;\n",
       "    }\n",
       "</style>\n",
       "<table border=\"1\" class=\"dataframe\">\n",
       "  <thead>\n",
       "    <tr style=\"text-align: right;\">\n",
       "      <th></th>\n",
       "      <th>Loan ID</th>\n",
       "      <th>Customer ID</th>\n",
       "      <th>Loan Status</th>\n",
       "      <th>Term</th>\n",
       "      <th>Home Ownership</th>\n",
       "      <th>Purpose</th>\n",
       "    </tr>\n",
       "  </thead>\n",
       "  <tbody>\n",
       "    <tr>\n",
       "      <th>0</th>\n",
       "      <td>000025bb-5694-4cff-b17d-192b1a98ba44</td>\n",
       "      <td>5ebc8bb1-5eb9-4404-b11b-a6eebc401a19</td>\n",
       "      <td>Fully Paid</td>\n",
       "      <td>Short Term</td>\n",
       "      <td>Home Mortgage</td>\n",
       "      <td>Debt Consolidation</td>\n",
       "    </tr>\n",
       "    <tr>\n",
       "      <th>1</th>\n",
       "      <td>00002c49-3a29-4bd4-8f67-c8f8fbc1048c</td>\n",
       "      <td>927b388d-2e01-423f-a8dc-f7e42d668f46</td>\n",
       "      <td>Fully Paid</td>\n",
       "      <td>Short Term</td>\n",
       "      <td>Home Mortgage</td>\n",
       "      <td>other</td>\n",
       "    </tr>\n",
       "    <tr>\n",
       "      <th>2</th>\n",
       "      <td>00002d89-27f3-409b-aa76-90834f359a65</td>\n",
       "      <td>defce609-c631-447d-aad6-1270615e89c4</td>\n",
       "      <td>Fully Paid</td>\n",
       "      <td>Short Term</td>\n",
       "      <td>Home Mortgage</td>\n",
       "      <td>Debt Consolidation</td>\n",
       "    </tr>\n",
       "    <tr>\n",
       "      <th>3</th>\n",
       "      <td>00005222-b4d8-45a4-ad8c-186057e24233</td>\n",
       "      <td>070bcecb-aae7-4485-a26a-e0403e7bb6c5</td>\n",
       "      <td>Fully Paid</td>\n",
       "      <td>Short Term</td>\n",
       "      <td>Own Home</td>\n",
       "      <td>Debt Consolidation</td>\n",
       "    </tr>\n",
       "    <tr>\n",
       "      <th>4</th>\n",
       "      <td>0000757f-a121-41ed-b17b-162e76647c1f</td>\n",
       "      <td>dde79588-12f0-4811-bab0-e2b07f633fcd</td>\n",
       "      <td>Fully Paid</td>\n",
       "      <td>Short Term</td>\n",
       "      <td>Rent</td>\n",
       "      <td>Debt Consolidation</td>\n",
       "    </tr>\n",
       "    <tr>\n",
       "      <th>...</th>\n",
       "      <td>...</td>\n",
       "      <td>...</td>\n",
       "      <td>...</td>\n",
       "      <td>...</td>\n",
       "      <td>...</td>\n",
       "      <td>...</td>\n",
       "    </tr>\n",
       "    <tr>\n",
       "      <th>256979</th>\n",
       "      <td>fffef5b7-be99-4666-ac70-2a397d2ee435</td>\n",
       "      <td>7211a8e3-cba4-4132-b939-222eed8a662c</td>\n",
       "      <td>Fully Paid</td>\n",
       "      <td>Short Term</td>\n",
       "      <td>Rent</td>\n",
       "      <td>Debt Consolidation</td>\n",
       "    </tr>\n",
       "    <tr>\n",
       "      <th>256980</th>\n",
       "      <td>ffffca93-aa8c-4123-b8ff-7852f6df889a</td>\n",
       "      <td>616fef0c-8f09-4327-9b5c-48fcfaa52934</td>\n",
       "      <td>Fully Paid</td>\n",
       "      <td>Short Term</td>\n",
       "      <td>Own Home</td>\n",
       "      <td>Debt Consolidation</td>\n",
       "    </tr>\n",
       "    <tr>\n",
       "      <th>256981</th>\n",
       "      <td>ffffcb2e-e48e-4d2c-a0d6-ed6bce5bfdbe</td>\n",
       "      <td>971a6682-183b-4a52-8bce-1d3429ade295</td>\n",
       "      <td>Charged Off</td>\n",
       "      <td>Short Term</td>\n",
       "      <td>Home Mortgage</td>\n",
       "      <td>Debt Consolidation</td>\n",
       "    </tr>\n",
       "    <tr>\n",
       "      <th>256982</th>\n",
       "      <td>ffffcb2e-e48e-4d2c-a0d6-ed6bce5bfdbe</td>\n",
       "      <td>971a6682-183b-4a52-8bce-1d3429ade295</td>\n",
       "      <td>Charged Off</td>\n",
       "      <td>Short Term</td>\n",
       "      <td>Home Mortgage</td>\n",
       "      <td>Debt Consolidation</td>\n",
       "    </tr>\n",
       "    <tr>\n",
       "      <th>256983</th>\n",
       "      <td>ffffe32e-ed17-459f-9cfd-7b9ee7972933</td>\n",
       "      <td>97281336-1e45-41d2-acb2-263ce56a590e</td>\n",
       "      <td>Fully Paid</td>\n",
       "      <td>Long Term</td>\n",
       "      <td>Home Mortgage</td>\n",
       "      <td>Debt Consolidation</td>\n",
       "    </tr>\n",
       "  </tbody>\n",
       "</table>\n",
       "<p>256984 rows × 6 columns</p>\n",
       "</div>\n",
       "      <button class=\"colab-df-convert\" onclick=\"convertToInteractive('df-d438b46f-7634-42a3-9b29-35c40f0399bc')\"\n",
       "              title=\"Convert this dataframe to an interactive table.\"\n",
       "              style=\"display:none;\">\n",
       "        \n",
       "  <svg xmlns=\"http://www.w3.org/2000/svg\" height=\"24px\"viewBox=\"0 0 24 24\"\n",
       "       width=\"24px\">\n",
       "    <path d=\"M0 0h24v24H0V0z\" fill=\"none\"/>\n",
       "    <path d=\"M18.56 5.44l.94 2.06.94-2.06 2.06-.94-2.06-.94-.94-2.06-.94 2.06-2.06.94zm-11 1L8.5 8.5l.94-2.06 2.06-.94-2.06-.94L8.5 2.5l-.94 2.06-2.06.94zm10 10l.94 2.06.94-2.06 2.06-.94-2.06-.94-.94-2.06-.94 2.06-2.06.94z\"/><path d=\"M17.41 7.96l-1.37-1.37c-.4-.4-.92-.59-1.43-.59-.52 0-1.04.2-1.43.59L10.3 9.45l-7.72 7.72c-.78.78-.78 2.05 0 2.83L4 21.41c.39.39.9.59 1.41.59.51 0 1.02-.2 1.41-.59l7.78-7.78 2.81-2.81c.8-.78.8-2.07 0-2.86zM5.41 20L4 18.59l7.72-7.72 1.47 1.35L5.41 20z\"/>\n",
       "  </svg>\n",
       "      </button>\n",
       "      \n",
       "  <style>\n",
       "    .colab-df-container {\n",
       "      display:flex;\n",
       "      flex-wrap:wrap;\n",
       "      gap: 12px;\n",
       "    }\n",
       "\n",
       "    .colab-df-convert {\n",
       "      background-color: #E8F0FE;\n",
       "      border: none;\n",
       "      border-radius: 50%;\n",
       "      cursor: pointer;\n",
       "      display: none;\n",
       "      fill: #1967D2;\n",
       "      height: 32px;\n",
       "      padding: 0 0 0 0;\n",
       "      width: 32px;\n",
       "    }\n",
       "\n",
       "    .colab-df-convert:hover {\n",
       "      background-color: #E2EBFA;\n",
       "      box-shadow: 0px 1px 2px rgba(60, 64, 67, 0.3), 0px 1px 3px 1px rgba(60, 64, 67, 0.15);\n",
       "      fill: #174EA6;\n",
       "    }\n",
       "\n",
       "    [theme=dark] .colab-df-convert {\n",
       "      background-color: #3B4455;\n",
       "      fill: #D2E3FC;\n",
       "    }\n",
       "\n",
       "    [theme=dark] .colab-df-convert:hover {\n",
       "      background-color: #434B5C;\n",
       "      box-shadow: 0px 1px 3px 1px rgba(0, 0, 0, 0.15);\n",
       "      filter: drop-shadow(0px 1px 2px rgba(0, 0, 0, 0.3));\n",
       "      fill: #FFFFFF;\n",
       "    }\n",
       "  </style>\n",
       "\n",
       "      <script>\n",
       "        const buttonEl =\n",
       "          document.querySelector('#df-d438b46f-7634-42a3-9b29-35c40f0399bc button.colab-df-convert');\n",
       "        buttonEl.style.display =\n",
       "          google.colab.kernel.accessAllowed ? 'block' : 'none';\n",
       "\n",
       "        async function convertToInteractive(key) {\n",
       "          const element = document.querySelector('#df-d438b46f-7634-42a3-9b29-35c40f0399bc');\n",
       "          const dataTable =\n",
       "            await google.colab.kernel.invokeFunction('convertToInteractive',\n",
       "                                                     [key], {});\n",
       "          if (!dataTable) return;\n",
       "\n",
       "          const docLinkHtml = 'Like what you see? Visit the ' +\n",
       "            '<a target=\"_blank\" href=https://colab.research.google.com/notebooks/data_table.ipynb>data table notebook</a>'\n",
       "            + ' to learn more about interactive tables.';\n",
       "          element.innerHTML = '';\n",
       "          dataTable['output_type'] = 'display_data';\n",
       "          await google.colab.output.renderOutput(dataTable, element);\n",
       "          const docLink = document.createElement('div');\n",
       "          docLink.innerHTML = docLinkHtml;\n",
       "          element.appendChild(docLink);\n",
       "        }\n",
       "      </script>\n",
       "    </div>\n",
       "  </div>\n",
       "  "
      ],
      "text/plain": [
       "                                     Loan ID  \\\n",
       "0       000025bb-5694-4cff-b17d-192b1a98ba44   \n",
       "1       00002c49-3a29-4bd4-8f67-c8f8fbc1048c   \n",
       "2       00002d89-27f3-409b-aa76-90834f359a65   \n",
       "3       00005222-b4d8-45a4-ad8c-186057e24233   \n",
       "4       0000757f-a121-41ed-b17b-162e76647c1f   \n",
       "...                                      ...   \n",
       "256979  fffef5b7-be99-4666-ac70-2a397d2ee435   \n",
       "256980  ffffca93-aa8c-4123-b8ff-7852f6df889a   \n",
       "256981  ffffcb2e-e48e-4d2c-a0d6-ed6bce5bfdbe   \n",
       "256982  ffffcb2e-e48e-4d2c-a0d6-ed6bce5bfdbe   \n",
       "256983  ffffe32e-ed17-459f-9cfd-7b9ee7972933   \n",
       "\n",
       "                                 Customer ID  Loan Status        Term  \\\n",
       "0       5ebc8bb1-5eb9-4404-b11b-a6eebc401a19   Fully Paid  Short Term   \n",
       "1       927b388d-2e01-423f-a8dc-f7e42d668f46   Fully Paid  Short Term   \n",
       "2       defce609-c631-447d-aad6-1270615e89c4   Fully Paid  Short Term   \n",
       "3       070bcecb-aae7-4485-a26a-e0403e7bb6c5   Fully Paid  Short Term   \n",
       "4       dde79588-12f0-4811-bab0-e2b07f633fcd   Fully Paid  Short Term   \n",
       "...                                      ...          ...         ...   \n",
       "256979  7211a8e3-cba4-4132-b939-222eed8a662c   Fully Paid  Short Term   \n",
       "256980  616fef0c-8f09-4327-9b5c-48fcfaa52934   Fully Paid  Short Term   \n",
       "256981  971a6682-183b-4a52-8bce-1d3429ade295  Charged Off  Short Term   \n",
       "256982  971a6682-183b-4a52-8bce-1d3429ade295  Charged Off  Short Term   \n",
       "256983  97281336-1e45-41d2-acb2-263ce56a590e   Fully Paid   Long Term   \n",
       "\n",
       "       Home Ownership             Purpose  \n",
       "0       Home Mortgage  Debt Consolidation  \n",
       "1       Home Mortgage               other  \n",
       "2       Home Mortgage  Debt Consolidation  \n",
       "3            Own Home  Debt Consolidation  \n",
       "4                Rent  Debt Consolidation  \n",
       "...               ...                 ...  \n",
       "256979           Rent  Debt Consolidation  \n",
       "256980       Own Home  Debt Consolidation  \n",
       "256981  Home Mortgage  Debt Consolidation  \n",
       "256982  Home Mortgage  Debt Consolidation  \n",
       "256983  Home Mortgage  Debt Consolidation  \n",
       "\n",
       "[256984 rows x 6 columns]"
      ]
     },
     "execution_count": 50,
     "metadata": {},
     "output_type": "execute_result"
    }
   ],
   "source": [
    "##Object Tipinde verilerimize  yeniden bir  bakıyruz.\n",
    "df.select_dtypes(\"object_\")"
   ]
  },
  {
   "cell_type": "code",
   "execution_count": null,
   "metadata": {
    "id": "YbFythgv6MZf"
   },
   "outputs": [],
   "source": [
    "#Loan Status: A categorical variable indicating if the loan was paid back or defaulted"
   ]
  },
  {
   "cell_type": "code",
   "execution_count": null,
   "metadata": {
    "colab": {
     "base_uri": "https://localhost:8080/"
    },
    "id": "dCGkAe7H5Y1a",
    "outputId": "19478f44-be4e-4072-d36e-bfb5d52d5001"
   },
   "outputs": [
    {
     "data": {
      "text/plain": [
       "Fully Paid     176191\n",
       "Charged Off     80793\n",
       "Name: Loan Status, dtype: int64"
      ]
     },
     "execution_count": 52,
     "metadata": {},
     "output_type": "execute_result"
    }
   ],
   "source": [
    "df['Loan Status'].value_counts()"
   ]
  },
  {
   "cell_type": "code",
   "execution_count": null,
   "metadata": {
    "colab": {
     "base_uri": "https://localhost:8080/",
     "height": 333
    },
    "id": "mwZGYxoE7RAo",
    "outputId": "8fa0b6f1-1aab-4c17-9d6f-c2315874da8e"
   },
   "outputs": [
    {
     "data": {
      "text/plain": [
       "<Axes: >"
      ]
     },
     "execution_count": 53,
     "metadata": {},
     "output_type": "execute_result"
    },
    {
     "data": {
      "image/png": "[encoded data removed]",
      "text/plain": [
       "<Figure size 432x288 with 1 Axes>"
      ]
     },
     "metadata": {},
     "output_type": "display_data"
    }
   ],
   "source": [
    "df['Loan Status'].value_counts().plot.bar()"
   ]
  },
  {
   "cell_type": "code",
   "execution_count": null,
   "metadata": {
    "colab": {
     "base_uri": "https://localhost:8080/"
    },
    "id": "gkfMxxTq5vDL",
    "outputId": "f2b8a21e-da18-4049-e36e-2260a2c2b999"
   },
   "outputs": [
    {
     "data": {
      "text/plain": [
       "Short Term    192632\n",
       "Long Term      64352\n",
       "Name: Term, dtype: int64"
      ]
     },
     "execution_count": 54,
     "metadata": {},
     "output_type": "execute_result"
    }
   ],
   "source": [
    "##Term: A categorical variable indicating if it is a short term or long term loan\n",
    "df['Term'].value_counts()"
   ]
  },
  {
   "cell_type": "code",
   "execution_count": null,
   "metadata": {
    "colab": {
     "base_uri": "https://localhost:8080/",
     "height": 328
    },
    "id": "IFk9kWcM7Oj3",
    "outputId": "3b39e071-0c7e-4915-8ace-a7af371a145a"
   },
   "outputs": [
    {
     "data": {
      "text/plain": [
       "<Axes: >"
      ]
     },
     "execution_count": 55,
     "metadata": {},
     "output_type": "execute_result"
    },
    {
     "data": {
      "image/png": "[encoded data removed]",
      "text/plain": [
       "<Figure size 432x288 with 1 Axes>"
      ]
     },
     "metadata": {},
     "output_type": "display_data"
    }
   ],
   "source": [
    "df['Term'].value_counts().plot.bar()"
   ]
  },
  {
   "cell_type": "code",
   "execution_count": null,
   "metadata": {
    "colab": {
     "base_uri": "https://localhost:8080/"
    },
    "id": "2pNxRxHQ5zwc",
    "outputId": "e75e6851-9529-4ab7-a2d9-5b05415de1b4"
   },
   "outputs": [
    {
     "data": {
      "text/plain": [
       "Home Mortgage    124477\n",
       "Rent             109010\n",
       "Own Home          22923\n",
       "HaveMortgage        574\n",
       "Name: Home Ownership, dtype: int64"
      ]
     },
     "execution_count": 56,
     "metadata": {},
     "output_type": "execute_result"
    }
   ],
   "source": [
    "#Home Ownership: Categorical variable indicating home ownership. \n",
    "#Values are \"Rent\", \"Home Mortgage\", and \"Own\". \n",
    "#If the value is OWN, then the customer is a home owner with no mortgage\n",
    "df['Home Ownership'].value_counts() "
   ]
  },
  {
   "cell_type": "code",
   "execution_count": null,
   "metadata": {
    "id": "nL4nWBOk57f4"
   },
   "outputs": [],
   "source": [
    "#Home Ownership -- Have leri Home olarak Replace Ediyoru\n",
    "df['Home Ownership'].replace(['HaveMortgage','Home Mortgage'],'Mortgage',inplace=True)"
   ]
  },
  {
   "cell_type": "code",
   "execution_count": null,
   "metadata": {
    "colab": {
     "base_uri": "https://localhost:8080/"
    },
    "id": "LNave1Qe6EZ7",
    "outputId": "6653338a-600e-4a2d-886f-19422bc0927a"
   },
   "outputs": [
    {
     "data": {
      "text/plain": [
       "Mortgage    125051\n",
       "Rent        109010\n",
       "Own Home     22923\n",
       "Name: Home Ownership, dtype: int64"
      ]
     },
     "execution_count": 58,
     "metadata": {},
     "output_type": "execute_result"
    }
   ],
   "source": [
    "df['Home Ownership'].value_counts() "
   ]
  },
  {
   "cell_type": "code",
   "execution_count": null,
   "metadata": {
    "colab": {
     "base_uri": "https://localhost:8080/",
     "height": 327
    },
    "id": "A19E-OoK7IDO",
    "outputId": "b065706e-0d09-40f0-ade5-858212be7377"
   },
   "outputs": [
    {
     "data": {
      "text/plain": [
       "<Axes: >"
      ]
     },
     "execution_count": 59,
     "metadata": {},
     "output_type": "execute_result"
    },
    {
     "data": {
      "image/png": "[encoded data removed]",
      "text/plain": [
       "<Figure size 432x288 with 1 Axes>"
      ]
     },
     "metadata": {},
     "output_type": "display_data"
    }
   ],
   "source": [
    "df['Home Ownership'].value_counts().plot.bar()"
   ]
  },
  {
   "cell_type": "code",
   "execution_count": null,
   "metadata": {
    "colab": {
     "base_uri": "https://localhost:8080/"
    },
    "id": "-hjkCfa06J2Q",
    "outputId": "1191f444-063f-4016-8947-bd4008ea45e0"
   },
   "outputs": [
    {
     "data": {
      "text/plain": [
       "Debt Consolidation      203911\n",
       "Home Improvements        14915\n",
       "other                    14268\n",
       "Other                     9667\n",
       "Business Loan             4712\n",
       "Buy a Car                 3276\n",
       "Medical Bills             2868\n",
       "Take a Trip               1570\n",
       "Buy House                 1530\n",
       "Educational Expenses       267\n",
       "Name: Purpose, dtype: int64"
      ]
     },
     "execution_count": 60,
     "metadata": {},
     "output_type": "execute_result"
    }
   ],
   "source": [
    "##Purpose: A description of the purpose of the loan\n",
    "df['Purpose'].value_counts()"
   ]
  },
  {
   "cell_type": "code",
   "execution_count": null,
   "metadata": {
    "id": "IXtGw1226rMH"
   },
   "outputs": [],
   "source": [
    "df['Purpose'].replace('other','Other',inplace=True)"
   ]
  },
  {
   "cell_type": "code",
   "execution_count": null,
   "metadata": {
    "colab": {
     "base_uri": "https://localhost:8080/"
    },
    "id": "68CTbR2x6smT",
    "outputId": "ca5996ac-6607-4b8a-a2b4-45dcb950852f"
   },
   "outputs": [
    {
     "data": {
      "text/plain": [
       "Debt Consolidation      203911\n",
       "Other                    23935\n",
       "Home Improvements        14915\n",
       "Business Loan             4712\n",
       "Buy a Car                 3276\n",
       "Medical Bills             2868\n",
       "Take a Trip               1570\n",
       "Buy House                 1530\n",
       "Educational Expenses       267\n",
       "Name: Purpose, dtype: int64"
      ]
     },
     "execution_count": 62,
     "metadata": {},
     "output_type": "execute_result"
    }
   ],
   "source": [
    "df['Purpose'].value_counts()"
   ]
  },
  {
   "cell_type": "code",
   "execution_count": null,
   "metadata": {
    "colab": {
     "base_uri": "https://localhost:8080/",
     "height": 382
    },
    "id": "86ljcvmV7Bna",
    "outputId": "5fd57a5a-cdd3-4ddb-ef78-e898fae62189"
   },
   "outputs": [
    {
     "data": {
      "text/plain": [
       "<Axes: >"
      ]
     },
     "execution_count": 63,
     "metadata": {},
     "output_type": "execute_result"
    },
    {
     "data": {
      "image/png": "[encoded data removed]",
      "text/plain": [
       "<Figure size 432x288 with 1 Axes>"
      ]
     },
     "metadata": {},
     "output_type": "display_data"
    }
   ],
   "source": [
    "df.Purpose.value_counts().plot.bar()"
   ]
  },
  {
   "cell_type": "code",
   "execution_count": null,
   "metadata": {
    "id": "VxErFNt57V-p"
   },
   "outputs": [],
   "source": [
    "##Kullanmayacağımız Unique Id Kolonlarımzı Kaldırabiliriz.\n",
    "df=df.drop(['Loan ID','Customer ID'],axis=1)"
   ]
  },
  {
   "cell_type": "code",
   "execution_count": null,
   "metadata": {
    "id": "g7Vf09NH7d0e"
   },
   "outputs": [],
   "source": [
    "x,y=df.drop('Loan Status',axis=1),df[['Loan Status']]"
   ]
  },
  {
   "cell_type": "code",
   "execution_count": null,
   "metadata": {
    "id": "AI-9h1te7inn"
   },
   "outputs": [],
   "source": [
    "x=pd.get_dummies(x,drop_first=True)"
   ]
  },
  {
   "cell_type": "code",
   "execution_count": null,
   "metadata": {
    "id": "UZSHB_Fb7xUh"
   },
   "outputs": [],
   "source": [
    "y=pd.get_dummies(y,drop_first=True)"
   ]
  },
  {
   "cell_type": "code",
   "execution_count": null,
   "metadata": {
    "colab": {
     "base_uri": "https://localhost:8080/"
    },
    "id": "kB36-Lh672Q6",
    "outputId": "08843f8e-cf78-4736-a7c0-d1efda83c0f7"
   },
   "outputs": [
    {
     "data": {
      "text/plain": [
       "((256984, 1), (256984, 24), (256984, 17))"
      ]
     },
     "execution_count": 68,
     "metadata": {},
     "output_type": "execute_result"
    }
   ],
   "source": [
    "y.shape,x.shape,df.shape"
   ]
  },
  {
   "cell_type": "code",
   "execution_count": null,
   "metadata": {
    "colab": {
     "base_uri": "https://localhost:8080/",
     "height": 322
    },
    "id": "6VYCvUBj76Rs",
    "outputId": "75f16871-4619-46e8-bcf3-e26da1f8170a"
   },
   "outputs": [
    {
     "data": {
      "text/html": [
       "\n",
       "  <div id=\"df-d5a47691-d099-48c3-a81a-98c96d8554d4\">\n",
       "    <div class=\"colab-df-container\">\n",
       "      <div>\n",
       "<style scoped>\n",
       "    .dataframe tbody tr th:only-of-type {\n",
       "        vertical-align: middle;\n",
       "    }\n",
       "\n",
       "    .dataframe tbody tr th {\n",
       "        vertical-align: top;\n",
       "    }\n",
       "\n",
       "    .dataframe thead th {\n",
       "        text-align: right;\n",
       "    }\n",
       "</style>\n",
       "<table border=\"1\" class=\"dataframe\">\n",
       "  <thead>\n",
       "    <tr style=\"text-align: right;\">\n",
       "      <th></th>\n",
       "      <th>Current Loan Amount</th>\n",
       "      <th>Credit Score</th>\n",
       "      <th>Years in current job</th>\n",
       "      <th>Annual Income</th>\n",
       "      <th>Monthly Debt</th>\n",
       "      <th>Years of Credit History</th>\n",
       "      <th>Months since last delinquent</th>\n",
       "      <th>Number of Open Accounts</th>\n",
       "      <th>Number of Credit Problems</th>\n",
       "      <th>Current Credit Balance</th>\n",
       "      <th>Maximum Open Credit</th>\n",
       "      <th>Bankruptcies</th>\n",
       "      <th>Tax Liens</th>\n",
       "      <th>Term_Short Term</th>\n",
       "      <th>Home Ownership_Own Home</th>\n",
       "      <th>Home Ownership_Rent</th>\n",
       "      <th>Purpose_Buy House</th>\n",
       "      <th>Purpose_Buy a Car</th>\n",
       "      <th>Purpose_Debt Consolidation</th>\n",
       "      <th>Purpose_Educational Expenses</th>\n",
       "      <th>Purpose_Home Improvements</th>\n",
       "      <th>Purpose_Medical Bills</th>\n",
       "      <th>Purpose_Other</th>\n",
       "      <th>Purpose_Take a Trip</th>\n",
       "    </tr>\n",
       "  </thead>\n",
       "  <tbody>\n",
       "    <tr>\n",
       "      <th>0</th>\n",
       "      <td>11520</td>\n",
       "      <td>741.0</td>\n",
       "      <td>10</td>\n",
       "      <td>33694.0</td>\n",
       "      <td>584.03</td>\n",
       "      <td>12.3</td>\n",
       "      <td>41</td>\n",
       "      <td>10</td>\n",
       "      <td>0</td>\n",
       "      <td>6760</td>\n",
       "      <td>16056.0</td>\n",
       "      <td>0</td>\n",
       "      <td>0</td>\n",
       "      <td>1</td>\n",
       "      <td>0</td>\n",
       "      <td>0</td>\n",
       "      <td>0</td>\n",
       "      <td>0</td>\n",
       "      <td>1</td>\n",
       "      <td>0</td>\n",
       "      <td>0</td>\n",
       "      <td>0</td>\n",
       "      <td>0</td>\n",
       "      <td>0</td>\n",
       "    </tr>\n",
       "    <tr>\n",
       "      <th>1</th>\n",
       "      <td>3441</td>\n",
       "      <td>734.0</td>\n",
       "      <td>4</td>\n",
       "      <td>42269.0</td>\n",
       "      <td>1106.04</td>\n",
       "      <td>26.3</td>\n",
       "      <td>0</td>\n",
       "      <td>17</td>\n",
       "      <td>0</td>\n",
       "      <td>6262</td>\n",
       "      <td>19149.0</td>\n",
       "      <td>0</td>\n",
       "      <td>0</td>\n",
       "      <td>1</td>\n",
       "      <td>0</td>\n",
       "      <td>0</td>\n",
       "      <td>0</td>\n",
       "      <td>0</td>\n",
       "      <td>0</td>\n",
       "      <td>0</td>\n",
       "      <td>0</td>\n",
       "      <td>0</td>\n",
       "      <td>1</td>\n",
       "      <td>0</td>\n",
       "    </tr>\n",
       "    <tr>\n",
       "      <th>2</th>\n",
       "      <td>21029</td>\n",
       "      <td>747.0</td>\n",
       "      <td>10</td>\n",
       "      <td>90126.0</td>\n",
       "      <td>1321.85</td>\n",
       "      <td>28.8</td>\n",
       "      <td>0</td>\n",
       "      <td>5</td>\n",
       "      <td>0</td>\n",
       "      <td>20967</td>\n",
       "      <td>28335.0</td>\n",
       "      <td>0</td>\n",
       "      <td>0</td>\n",
       "      <td>1</td>\n",
       "      <td>0</td>\n",
       "      <td>0</td>\n",
       "      <td>0</td>\n",
       "      <td>0</td>\n",
       "      <td>1</td>\n",
       "      <td>0</td>\n",
       "      <td>0</td>\n",
       "      <td>0</td>\n",
       "      <td>0</td>\n",
       "      <td>0</td>\n",
       "    </tr>\n",
       "    <tr>\n",
       "      <th>3</th>\n",
       "      <td>18743</td>\n",
       "      <td>747.0</td>\n",
       "      <td>10</td>\n",
       "      <td>38072.0</td>\n",
       "      <td>751.92</td>\n",
       "      <td>26.2</td>\n",
       "      <td>0</td>\n",
       "      <td>9</td>\n",
       "      <td>0</td>\n",
       "      <td>22529</td>\n",
       "      <td>43915.0</td>\n",
       "      <td>0</td>\n",
       "      <td>0</td>\n",
       "      <td>1</td>\n",
       "      <td>1</td>\n",
       "      <td>0</td>\n",
       "      <td>0</td>\n",
       "      <td>0</td>\n",
       "      <td>1</td>\n",
       "      <td>0</td>\n",
       "      <td>0</td>\n",
       "      <td>0</td>\n",
       "      <td>0</td>\n",
       "      <td>0</td>\n",
       "    </tr>\n",
       "    <tr>\n",
       "      <th>4</th>\n",
       "      <td>11731</td>\n",
       "      <td>746.0</td>\n",
       "      <td>4</td>\n",
       "      <td>50025.0</td>\n",
       "      <td>355.18</td>\n",
       "      <td>11.5</td>\n",
       "      <td>0</td>\n",
       "      <td>12</td>\n",
       "      <td>0</td>\n",
       "      <td>17391</td>\n",
       "      <td>37081.0</td>\n",
       "      <td>0</td>\n",
       "      <td>0</td>\n",
       "      <td>1</td>\n",
       "      <td>0</td>\n",
       "      <td>1</td>\n",
       "      <td>0</td>\n",
       "      <td>0</td>\n",
       "      <td>1</td>\n",
       "      <td>0</td>\n",
       "      <td>0</td>\n",
       "      <td>0</td>\n",
       "      <td>0</td>\n",
       "      <td>0</td>\n",
       "    </tr>\n",
       "  </tbody>\n",
       "</table>\n",
       "</div>\n",
       "      <button class=\"colab-df-convert\" onclick=\"convertToInteractive('df-d5a47691-d099-48c3-a81a-98c96d8554d4')\"\n",
       "              title=\"Convert this dataframe to an interactive table.\"\n",
       "              style=\"display:none;\">\n",
       "        \n",
       "  <svg xmlns=\"http://www.w3.org/2000/svg\" height=\"24px\"viewBox=\"0 0 24 24\"\n",
       "       width=\"24px\">\n",
       "    <path d=\"M0 0h24v24H0V0z\" fill=\"none\"/>\n",
       "    <path d=\"M18.56 5.44l.94 2.06.94-2.06 2.06-.94-2.06-.94-.94-2.06-.94 2.06-2.06.94zm-11 1L8.5 8.5l.94-2.06 2.06-.94-2.06-.94L8.5 2.5l-.94 2.06-2.06.94zm10 10l.94 2.06.94-2.06 2.06-.94-2.06-.94-.94-2.06-.94 2.06-2.06.94z\"/><path d=\"M17.41 7.96l-1.37-1.37c-.4-.4-.92-.59-1.43-.59-.52 0-1.04.2-1.43.59L10.3 9.45l-7.72 7.72c-.78.78-.78 2.05 0 2.83L4 21.41c.39.39.9.59 1.41.59.51 0 1.02-.2 1.41-.59l7.78-7.78 2.81-2.81c.8-.78.8-2.07 0-2.86zM5.41 20L4 18.59l7.72-7.72 1.47 1.35L5.41 20z\"/>\n",
       "  </svg>\n",
       "      </button>\n",
       "      \n",
       "  <style>\n",
       "    .colab-df-container {\n",
       "      display:flex;\n",
       "      flex-wrap:wrap;\n",
       "      gap: 12px;\n",
       "    }\n",
       "\n",
       "    .colab-df-convert {\n",
       "      background-color: #E8F0FE;\n",
       "      border: none;\n",
       "      border-radius: 50%;\n",
       "      cursor: pointer;\n",
       "      display: none;\n",
       "      fill: #1967D2;\n",
       "      height: 32px;\n",
       "      padding: 0 0 0 0;\n",
       "      width: 32px;\n",
       "    }\n",
       "\n",
       "    .colab-df-convert:hover {\n",
       "      background-color: #E2EBFA;\n",
       "      box-shadow: 0px 1px 2px rgba(60, 64, 67, 0.3), 0px 1px 3px 1px rgba(60, 64, 67, 0.15);\n",
       "      fill: #174EA6;\n",
       "    }\n",
       "\n",
       "    [theme=dark] .colab-df-convert {\n",
       "      background-color: #3B4455;\n",
       "      fill: #D2E3FC;\n",
       "    }\n",
       "\n",
       "    [theme=dark] .colab-df-convert:hover {\n",
       "      background-color: #434B5C;\n",
       "      box-shadow: 0px 1px 3px 1px rgba(0, 0, 0, 0.15);\n",
       "      filter: drop-shadow(0px 1px 2px rgba(0, 0, 0, 0.3));\n",
       "      fill: #FFFFFF;\n",
       "    }\n",
       "  </style>\n",
       "\n",
       "      <script>\n",
       "        const buttonEl =\n",
       "          document.querySelector('#df-d5a47691-d099-48c3-a81a-98c96d8554d4 button.colab-df-convert');\n",
       "        buttonEl.style.display =\n",
       "          google.colab.kernel.accessAllowed ? 'block' : 'none';\n",
       "\n",
       "        async function convertToInteractive(key) {\n",
       "          const element = document.querySelector('#df-d5a47691-d099-48c3-a81a-98c96d8554d4');\n",
       "          const dataTable =\n",
       "            await google.colab.kernel.invokeFunction('convertToInteractive',\n",
       "                                                     [key], {});\n",
       "          if (!dataTable) return;\n",
       "\n",
       "          const docLinkHtml = 'Like what you see? Visit the ' +\n",
       "            '<a target=\"_blank\" href=https://colab.research.google.com/notebooks/data_table.ipynb>data table notebook</a>'\n",
       "            + ' to learn more about interactive tables.';\n",
       "          element.innerHTML = '';\n",
       "          dataTable['output_type'] = 'display_data';\n",
       "          await google.colab.output.renderOutput(dataTable, element);\n",
       "          const docLink = document.createElement('div');\n",
       "          docLink.innerHTML = docLinkHtml;\n",
       "          element.appendChild(docLink);\n",
       "        }\n",
       "      </script>\n",
       "    </div>\n",
       "  </div>\n",
       "  "
      ],
      "text/plain": [
       "   Current Loan Amount  Credit Score  Years in current job  Annual Income  \\\n",
       "0                11520         741.0                    10        33694.0   \n",
       "1                 3441         734.0                     4        42269.0   \n",
       "2                21029         747.0                    10        90126.0   \n",
       "3                18743         747.0                    10        38072.0   \n",
       "4                11731         746.0                     4        50025.0   \n",
       "\n",
       "   Monthly Debt  Years of Credit History  Months since last delinquent  \\\n",
       "0        584.03                     12.3                            41   \n",
       "1       1106.04                     26.3                             0   \n",
       "2       1321.85                     28.8                             0   \n",
       "3        751.92                     26.2                             0   \n",
       "4        355.18                     11.5                             0   \n",
       "\n",
       "   Number of Open Accounts  Number of Credit Problems  Current Credit Balance  \\\n",
       "0                       10                          0                    6760   \n",
       "1                       17                          0                    6262   \n",
       "2                        5                          0                   20967   \n",
       "3                        9                          0                   22529   \n",
       "4                       12                          0                   17391   \n",
       "\n",
       "   Maximum Open Credit  Bankruptcies  Tax Liens  Term_Short Term  \\\n",
       "0              16056.0             0          0                1   \n",
       "1              19149.0             0          0                1   \n",
       "2              28335.0             0          0                1   \n",
       "3              43915.0             0          0                1   \n",
       "4              37081.0             0          0                1   \n",
       "\n",
       "   Home Ownership_Own Home  Home Ownership_Rent  Purpose_Buy House  \\\n",
       "0                        0                    0                  0   \n",
       "1                        0                    0                  0   \n",
       "2                        0                    0                  0   \n",
       "3                        1                    0                  0   \n",
       "4                        0                    1                  0   \n",
       "\n",
       "   Purpose_Buy a Car  Purpose_Debt Consolidation  \\\n",
       "0                  0                           1   \n",
       "1                  0                           0   \n",
       "2                  0                           1   \n",
       "3                  0                           1   \n",
       "4                  0                           1   \n",
       "\n",
       "   Purpose_Educational Expenses  Purpose_Home Improvements  \\\n",
       "0                             0                          0   \n",
       "1                             0                          0   \n",
       "2                             0                          0   \n",
       "3                             0                          0   \n",
       "4                             0                          0   \n",
       "\n",
       "   Purpose_Medical Bills  Purpose_Other  Purpose_Take a Trip  \n",
       "0                      0              0                    0  \n",
       "1                      0              1                    0  \n",
       "2                      0              0                    0  \n",
       "3                      0              0                    0  \n",
       "4                      0              0                    0  "
      ]
     },
     "execution_count": 69,
     "metadata": {},
     "output_type": "execute_result"
    }
   ],
   "source": [
    "x.head()"
   ]
  },
  {
   "cell_type": "code",
   "execution_count": null,
   "metadata": {
    "id": "9Av5R5NR9fLK"
   },
   "outputs": [],
   "source": [
    "## Classic Classification Models ile Çözümü"
   ]
  },
  {
   "cell_type": "code",
   "execution_count": null,
   "metadata": {
    "id": "ODVS5XTm80Tm"
   },
   "outputs": [],
   "source": [
    "def fnc_classification_all_model(x,y):\n",
    "    from sklearn.naive_bayes import GaussianNB\n",
    "    from sklearn.naive_bayes import BernoulliNB\n",
    "    from sklearn.svm import SVC\n",
    "    from sklearn.neighbors import KNeighborsClassifier\n",
    "    from sklearn.tree import DecisionTreeClassifier\n",
    "    from sklearn.ensemble import RandomForestClassifier\n",
    "    from sklearn.linear_model import LogisticRegression\n",
    "    from xgboost import XGBClassifier #yüklemek için !pip install xgboost kullandım\n",
    "    from sklearn.ensemble import GradientBoostingClassifier\n",
    "    \n",
    "    import imblearn\n",
    "    from imblearn.under_sampling import RandomUnderSampler\n",
    "    from imblearn.metrics import geometric_mean_score, make_index_balanced_accuracy, classification_report_imbalanced\n",
    "\n",
    "    from sklearn.metrics import accuracy_score,precision_score,recall_score,f1_score\n",
    "    from sklearn.metrics import confusion_matrix,classification_report\n",
    "              \n",
    "    g=GaussianNB()\n",
    "    b=BernoulliNB()\n",
    "    KN=KNeighborsClassifier()\n",
    "    SVC=SVC() \n",
    "    D=DecisionTreeClassifier()\n",
    "    R=RandomForestClassifier()\n",
    "    Log=LogisticRegression()\n",
    "    XGB=XGBClassifier()\n",
    "    G=GradientBoostingClassifier()\n",
    "      \n",
    "    x_train,x_test,y_train,y_test=train_test_split(x,y,random_state=13)\n",
    "    \n",
    "    \n",
    "    algos=[g,b,KN,SVC,D,R,Log,XGB,G]\n",
    "    algo_names=['GaussianNB','BernoulliNB','KNeighborsClassifier','SVC','DecisionTreeClassifier','RandomForestClassifier','LogisticRegression','XGBClassifier','GradientBoostingClassifier']\n",
    "    \n",
    "    accuracy_scored=[]\n",
    "    precision_scored=[]\n",
    "    recall_scored=[]\n",
    "    f1_scored=[]\n",
    "    \n",
    "    RUS=RandomUnderSampler(random_state=42)\n",
    "    x_RUS,y_RUS=RUS.fit_resample(x_train,y_train)\n",
    "    \n",
    "    for item in algos:\n",
    "\n",
    "        #item.fit(x_RUS,y_RUS)\n",
    "        predict=item.fit(x_RUS,y_RUS).predict(x_test)\n",
    "        \n",
    "        \n",
    "        accuracy_scored.append(accuracy_score(y_test,predict))\n",
    "        precision_scored.append(precision_score(y_test,predict))\n",
    "        recall_scored.append(recall_score(y_test,predict))\n",
    "        f1_scored.append(f1_score(y_test,predict))\n",
    "\n",
    "    result=pd.DataFrame(columns=['accuracy_score','f1_score','recall_score','precision_score'],index=algo_names)\n",
    "    result['accuracy_score']=accuracy_scored\n",
    "    result['f1_score']=f1_scored\n",
    "    result['recall_score']=recall_scored\n",
    "    result['precision_score']=precision_scored\n",
    "    \n",
    "    return result.sort_values('accuracy_score',ascending=False)"
   ]
  },
  {
   "cell_type": "code",
   "execution_count": null,
   "metadata": {
    "colab": {
     "background_save": true
    },
    "id": "OLu_mDom9TnM",
    "outputId": "391321cc-cd44-42e1-9b91-0829fbd31d0f"
   },
   "outputs": [
    {
     "data": {
      "text/html": [
       "\n",
       "  <div id=\"df-cf6c04f0-8a2d-46ff-adfd-96ed254b5767\">\n",
       "    <div class=\"colab-df-container\">\n",
       "      <div>\n",
       "<style scoped>\n",
       "    .dataframe tbody tr th:only-of-type {\n",
       "        vertical-align: middle;\n",
       "    }\n",
       "\n",
       "    .dataframe tbody tr th {\n",
       "        vertical-align: top;\n",
       "    }\n",
       "\n",
       "    .dataframe thead th {\n",
       "        text-align: right;\n",
       "    }\n",
       "</style>\n",
       "<table border=\"1\" class=\"dataframe\">\n",
       "  <thead>\n",
       "    <tr style=\"text-align: right;\">\n",
       "      <th></th>\n",
       "      <th>accuracy_score</th>\n",
       "      <th>f1_score</th>\n",
       "      <th>recall_score</th>\n",
       "      <th>precision_score</th>\n",
       "    </tr>\n",
       "  </thead>\n",
       "  <tbody>\n",
       "    <tr>\n",
       "      <th>RandomForestClassifier</th>\n",
       "      <td>0.756514</td>\n",
       "      <td>0.805930</td>\n",
       "      <td>0.736180</td>\n",
       "      <td>0.890281</td>\n",
       "    </tr>\n",
       "    <tr>\n",
       "      <th>XGBClassifier</th>\n",
       "      <td>0.716620</td>\n",
       "      <td>0.775296</td>\n",
       "      <td>0.711861</td>\n",
       "      <td>0.851142</td>\n",
       "    </tr>\n",
       "    <tr>\n",
       "      <th>GradientBoostingClassifier</th>\n",
       "      <td>0.707562</td>\n",
       "      <td>0.768158</td>\n",
       "      <td>0.705446</td>\n",
       "      <td>0.843108</td>\n",
       "    </tr>\n",
       "    <tr>\n",
       "      <th>DecisionTreeClassifier</th>\n",
       "      <td>0.700931</td>\n",
       "      <td>0.757601</td>\n",
       "      <td>0.680538</td>\n",
       "      <td>0.854346</td>\n",
       "    </tr>\n",
       "    <tr>\n",
       "      <th>BernoulliNB</th>\n",
       "      <td>0.662625</td>\n",
       "      <td>0.764148</td>\n",
       "      <td>0.795834</td>\n",
       "      <td>0.734889</td>\n",
       "    </tr>\n",
       "    <tr>\n",
       "      <th>KNeighborsClassifier</th>\n",
       "      <td>0.613953</td>\n",
       "      <td>0.674232</td>\n",
       "      <td>0.581718</td>\n",
       "      <td>0.801737</td>\n",
       "    </tr>\n",
       "    <tr>\n",
       "      <th>LogisticRegression</th>\n",
       "      <td>0.492684</td>\n",
       "      <td>0.442426</td>\n",
       "      <td>0.293080</td>\n",
       "      <td>0.902121</td>\n",
       "    </tr>\n",
       "    <tr>\n",
       "      <th>GaussianNB</th>\n",
       "      <td>0.450612</td>\n",
       "      <td>0.333736</td>\n",
       "      <td>0.200358</td>\n",
       "      <td>0.998306</td>\n",
       "    </tr>\n",
       "    <tr>\n",
       "      <th>SVC</th>\n",
       "      <td>0.449865</td>\n",
       "      <td>0.331871</td>\n",
       "      <td>0.198953</td>\n",
       "      <td>0.999886</td>\n",
       "    </tr>\n",
       "  </tbody>\n",
       "</table>\n",
       "</div>\n",
       "      <button class=\"colab-df-convert\" onclick=\"convertToInteractive('df-cf6c04f0-8a2d-46ff-adfd-96ed254b5767')\"\n",
       "              title=\"Convert this dataframe to an interactive table.\"\n",
       "              style=\"display:none;\">\n",
       "        \n",
       "  <svg xmlns=\"http://www.w3.org/2000/svg\" height=\"24px\"viewBox=\"0 0 24 24\"\n",
       "       width=\"24px\">\n",
       "    <path d=\"M0 0h24v24H0V0z\" fill=\"none\"/>\n",
       "    <path d=\"M18.56 5.44l.94 2.06.94-2.06 2.06-.94-2.06-.94-.94-2.06-.94 2.06-2.06.94zm-11 1L8.5 8.5l.94-2.06 2.06-.94-2.06-.94L8.5 2.5l-.94 2.06-2.06.94zm10 10l.94 2.06.94-2.06 2.06-.94-2.06-.94-.94-2.06-.94 2.06-2.06.94z\"/><path d=\"M17.41 7.96l-1.37-1.37c-.4-.4-.92-.59-1.43-.59-.52 0-1.04.2-1.43.59L10.3 9.45l-7.72 7.72c-.78.78-.78 2.05 0 2.83L4 21.41c.39.39.9.59 1.41.59.51 0 1.02-.2 1.41-.59l7.78-7.78 2.81-2.81c.8-.78.8-2.07 0-2.86zM5.41 20L4 18.59l7.72-7.72 1.47 1.35L5.41 20z\"/>\n",
       "  </svg>\n",
       "      </button>\n",
       "      \n",
       "  <style>\n",
       "    .colab-df-container {\n",
       "      display:flex;\n",
       "      flex-wrap:wrap;\n",
       "      gap: 12px;\n",
       "    }\n",
       "\n",
       "    .colab-df-convert {\n",
       "      background-color: #E8F0FE;\n",
       "      border: none;\n",
       "      border-radius: 50%;\n",
       "      cursor: pointer;\n",
       "      display: none;\n",
       "      fill: #1967D2;\n",
       "      height: 32px;\n",
       "      padding: 0 0 0 0;\n",
       "      width: 32px;\n",
       "    }\n",
       "\n",
       "    .colab-df-convert:hover {\n",
       "      background-color: #E2EBFA;\n",
       "      box-shadow: 0px 1px 2px rgba(60, 64, 67, 0.3), 0px 1px 3px 1px rgba(60, 64, 67, 0.15);\n",
       "      fill: #174EA6;\n",
       "    }\n",
       "\n",
       "    [theme=dark] .colab-df-convert {\n",
       "      background-color: #3B4455;\n",
       "      fill: #D2E3FC;\n",
       "    }\n",
       "\n",
       "    [theme=dark] .colab-df-convert:hover {\n",
       "      background-color: #434B5C;\n",
       "      box-shadow: 0px 1px 3px 1px rgba(0, 0, 0, 0.15);\n",
       "      filter: drop-shadow(0px 1px 2px rgba(0, 0, 0, 0.3));\n",
       "      fill: #FFFFFF;\n",
       "    }\n",
       "  </style>\n",
       "\n",
       "      <script>\n",
       "        const buttonEl =\n",
       "          document.querySelector('#df-cf6c04f0-8a2d-46ff-adfd-96ed254b5767 button.colab-df-convert');\n",
       "        buttonEl.style.display =\n",
       "          google.colab.kernel.accessAllowed ? 'block' : 'none';\n",
       "\n",
       "        async function convertToInteractive(key) {\n",
       "          const element = document.querySelector('#df-cf6c04f0-8a2d-46ff-adfd-96ed254b5767');\n",
       "          const dataTable =\n",
       "            await google.colab.kernel.invokeFunction('convertToInteractive',\n",
       "                                                     [key], {});\n",
       "          if (!dataTable) return;\n",
       "\n",
       "          const docLinkHtml = 'Like what you see? Visit the ' +\n",
       "            '<a target=\"_blank\" href=https://colab.research.google.com/notebooks/data_table.ipynb>data table notebook</a>'\n",
       "            + ' to learn more about interactive tables.';\n",
       "          element.innerHTML = '';\n",
       "          dataTable['output_type'] = 'display_data';\n",
       "          await google.colab.output.renderOutput(dataTable, element);\n",
       "          const docLink = document.createElement('div');\n",
       "          docLink.innerHTML = docLinkHtml;\n",
       "          element.appendChild(docLink);\n",
       "        }\n",
       "      </script>\n",
       "    </div>\n",
       "  </div>\n",
       "  "
      ],
      "text/plain": [
       "                            accuracy_score  f1_score  recall_score  \\\n",
       "RandomForestClassifier            0.756514  0.805930      0.736180   \n",
       "XGBClassifier                     0.716620  0.775296      0.711861   \n",
       "GradientBoostingClassifier        0.707562  0.768158      0.705446   \n",
       "DecisionTreeClassifier            0.700931  0.757601      0.680538   \n",
       "BernoulliNB                       0.662625  0.764148      0.795834   \n",
       "KNeighborsClassifier              0.613953  0.674232      0.581718   \n",
       "LogisticRegression                0.492684  0.442426      0.293080   \n",
       "GaussianNB                        0.450612  0.333736      0.200358   \n",
       "SVC                               0.449865  0.331871      0.198953   \n",
       "\n",
       "                            precision_score  \n",
       "RandomForestClassifier             0.890281  \n",
       "XGBClassifier                      0.851142  \n",
       "GradientBoostingClassifier         0.843108  \n",
       "DecisionTreeClassifier             0.854346  \n",
       "BernoulliNB                        0.734889  \n",
       "KNeighborsClassifier               0.801737  \n",
       "LogisticRegression                 0.902121  \n",
       "GaussianNB                         0.998306  \n",
       "SVC                                0.999886  "
      ]
     },
     "execution_count": 72,
     "metadata": {},
     "output_type": "execute_result"
    }
   ],
   "source": [
    "fnc_classification_all_model(x,y)"
   ]
  },
  {
   "cell_type": "code",
   "execution_count": null,
   "metadata": {
    "colab": {
     "background_save": true
    },
    "id": "I17LpT8T8BsT"
   },
   "outputs": [],
   "source": [
    "##Pycaret ile Classification Models"
   ]
  },
  {
   "cell_type": "code",
   "execution_count": null,
   "metadata": {
    "colab": {
     "background_save": true
    },
    "id": "qnFS-n309q7d"
   },
   "outputs": [],
   "source": []
  }
 ],
 "metadata": {
  "colab": {
   "provenance": []
  },
  "kernelspec": {
   "display_name": "Python 3 (ipykernel)",
   "language": "python",
   "name": "python3"
  },
  "language_info": {
   "codemirror_mode": {
    "name": "ipython",
    "version": 3
   },
   "file_extension": ".py",
   "mimetype": "text/x-python",
   "name": "python",
   "nbconvert_exporter": "python",
   "pygments_lexer": "ipython3",
   "version": "3.9.13"
  }
 },
 "nbformat": 4,
 "nbformat_minor": 1
}
